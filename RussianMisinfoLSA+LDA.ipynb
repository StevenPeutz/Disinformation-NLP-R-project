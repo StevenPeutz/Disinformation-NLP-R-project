{
  "nbformat": 4,
  "nbformat_minor": 0,
  "metadata": {
    "colab": {
      "name": "RussianMisinfoLSA+LDA.ipynb",
      "provenance": [],
      "collapsed_sections": []
    },
    "kernelspec": {
      "name": "python3",
      "display_name": "Python 3"
    },
    "language_info": {
      "name": "python"
    }
  },
  "cells": [
    {
      "cell_type": "markdown",
      "source": [
        "# Pro-Kremlin Misinformation\n",
        "<br/><br/>\n",
        "**About the data:**\n",
        "\n",
        "Disinformation and propaganda cases collected by the EUvsDisinfo project. A project started in 2015 that identifies and fact checks disinformation cases originating from pro-Kremlin media that are spread across the EU.\n",
        "<br/><br/>\n",
        "\n",
        "**Why topic modelling, why not add regular 'true' news articles and use classification (i.e. misinfo prediction?)**\n",
        "\n",
        "While this might immediately seem like a great classification task, I would suggest also considering clustering / topic modelling. Why clustering? Because by clustering we make a model that can match a newly written article to a previously debunked lie / misinformation narrative, thereby we can immediately debunk a new article without either using an algorithm as argument, or encountering a time delay with regards to waiting for confirmation of a fact checking organisation.\n",
        "<br/><br/>\n",
        "\n",
        "\n",
        "\n",
        "----\n",
        "\n",
        "\n",
        "&nbsp;"
      ],
      "metadata": {
        "id": "p0bM-Y6UV4mn"
      }
    },
    {
      "cell_type": "markdown",
      "source": [
        "&nbsp;\n",
        "\n",
        "&nbsp;"
      ],
      "metadata": {
        "id": "rZOPlMN7y31V"
      }
    },
    {
      "cell_type": "markdown",
      "source": [
        "# importing packages"
      ],
      "metadata": {
        "id": "VU8LSPJwxg4w"
      }
    },
    {
      "cell_type": "code",
      "source": [
        "import numpy as np\n",
        "import pandas as pd\n",
        "from IPython.display import display\n",
        "from tqdm import tqdm\n",
        "from collections import Counter\n",
        "import ast\n",
        "\n",
        "import matplotlib.pyplot as plt\n",
        "import matplotlib.mlab as mlab\n",
        "import seaborn as sb\n",
        "\n",
        "from sklearn.feature_extraction.text import CountVectorizer\n",
        "from textblob import TextBlob\n",
        "import scipy.stats as stats\n",
        "\n",
        "from sklearn.decomposition import TruncatedSVD\n",
        "from sklearn.decomposition import LatentDirichletAllocation\n",
        "from sklearn.manifold import TSNE\n",
        "\n",
        "from bokeh.plotting import figure, output_file, show\n",
        "from bokeh.models import Label\n",
        "from bokeh.io import output_notebook\n",
        "output_notebook()\n",
        "\n",
        "%matplotlib inline"
      ],
      "metadata": {
        "id": "tfze-r29CBHo"
      },
      "execution_count": null,
      "outputs": []
    },
    {
      "cell_type": "markdown",
      "source": [
        "&nbsp;\n",
        "\n",
        "&nbsp;"
      ],
      "metadata": {
        "id": "UziDHQcZyocU"
      }
    },
    {
      "cell_type": "markdown",
      "source": [
        "# reading in the dataset (csv)\n",
        "Reading in the dataset from github. The dataset with description added by me can also be found on kaggle here: \n",
        "\n",
        "https://www.kaggle.com/datasets/stevenpeutz/misinformation-fake-news-text-dataset-79k"
      ],
      "metadata": {
        "id": "uvrErVL8xmve"
      }
    },
    {
      "cell_type": "code",
      "execution_count": null,
      "metadata": {
        "colab": {
          "base_uri": "https://localhost:8080/"
        },
        "id": "ZW_nANhK5jOi",
        "outputId": "87fe4fd5-2e1b-4c2c-f15a-79e8480551f2"
      },
      "outputs": [
        {
          "output_type": "stream",
          "name": "stderr",
          "text": [
            "/usr/local/lib/python3.7/dist-packages/IPython/core/interactiveshell.py:2882: FutureWarning: The error_bad_lines argument has been deprecated and will be removed in a future version.\n",
            "\n",
            "\n",
            "  exec(code_obj, self.user_global_ns, self.user_ns)\n"
          ]
        }
      ],
      "source": [
        "import pandas as pd\n",
        "url = 'https://raw.githubusercontent.com/StevenPeutz/Misinformation-textAnalysis/main/data/EXTRA_RussianPropagandaSubset.csv'\n",
        "df1 = pd.read_csv(url, error_bad_lines=False, skipinitialspace = True)\n",
        "# Dataset is now stored in a Pandas Dataframe"
      ]
    },
    {
      "cell_type": "markdown",
      "source": [
        "&nbsp;\n",
        "\n",
        "&nbsp;"
      ],
      "metadata": {
        "id": "9Yf0JXpxy-L-"
      }
    },
    {
      "cell_type": "markdown",
      "source": [
        "# Orienting, prepping & cleaning"
      ],
      "metadata": {
        "id": "MkEuhh0kyO0h"
      }
    },
    {
      "cell_type": "code",
      "source": [
        "print(\"Dataset info:\\n\")\n",
        "print(\"- Data type is {}\".format(type(df1)))\n",
        "print(\"- Total NaN's are {}\".format(df1.isnull().sum().sum()))\n",
        "print(\"- With shape {}\".format(df1.shape))"
      ],
      "metadata": {
        "colab": {
          "base_uri": "https://localhost:8080/"
        },
        "id": "qQa9VwgyHbXX",
        "outputId": "f874f67c-7d94-4449-8cd7-e3f209f58274"
      },
      "execution_count": null,
      "outputs": [
        {
          "output_type": "stream",
          "name": "stdout",
          "text": [
            "Dataset info:\n",
            "\n",
            "- Data type is <class 'pandas.core.frame.DataFrame'>\n",
            "- Total NaN's are 3\n",
            "- With shape (7369, 2)\n"
          ]
        }
      ]
    },
    {
      "cell_type": "code",
      "source": [
        "df1 = df1.dropna()\n",
        "print(\" \\nCount total NaN in our DataFrame : \", df1.isnull().sum().sum())        #checking whether indeed missing are zero now"
      ],
      "metadata": {
        "colab": {
          "base_uri": "https://localhost:8080/"
        },
        "id": "IoEGP1q5H8BC",
        "outputId": "a4e2acf5-26ef-4dc0-da78-fab86bdd681c"
      },
      "execution_count": null,
      "outputs": [
        {
          "output_type": "stream",
          "name": "stdout",
          "text": [
            " \n",
            "Count total NaN in our DataFrame :  0\n"
          ]
        }
      ]
    },
    {
      "cell_type": "markdown",
      "source": [
        "&nbsp;\n",
        "\n",
        "&nbsp;"
      ],
      "metadata": {
        "id": "r7r45nwEzBUW"
      }
    },
    {
      "cell_type": "markdown",
      "source": [
        "Let's have a look at the lengths of the documents. We have to do this in order to consider whether this appropriate for LDA topic modelling.\n",
        "\n"
      ],
      "metadata": {
        "id": "XDa9S2TYAJFq"
      }
    },
    {
      "cell_type": "code",
      "source": [
        "#print(df1['text'].str.len()) # length of each doc\n",
        "print(df1['text'].str.len().mean())\n",
        "# interesting to see that this value does not change after removing the 3 missing values, so they were not used (as zeros) in calculating the mean."
      ],
      "metadata": {
        "colab": {
          "base_uri": "https://localhost:8080/"
        },
        "id": "JSX6635d_vFL",
        "outputId": "46e389ef-fa4d-4401-9f50-cf62774e83e3"
      },
      "execution_count": null,
      "outputs": [
        {
          "output_type": "stream",
          "name": "stdout",
          "text": [
            "257.4074124355145\n"
          ]
        }
      ]
    },
    {
      "cell_type": "markdown",
      "source": [
        "We know that LDA is an approprate techinque in the context of tweets. \n",
        "This is interesting because: \n",
        "\n",
        "A) we know LDA can work with fewer than 280 character texts as 280 is the max character length of tweets (ours is on average 257).\n",
        "\n",
        "B) we can look at which hyperparameter are succesfully used in LDA when working on tweet data as this might be helpful for us as well.\n",
        "\n",
        " \n",
        "\n",
        "\n",
        "\n",
        "\n",
        "\n"
      ],
      "metadata": {
        "id": "wNdzWhp638UR"
      }
    },
    {
      "cell_type": "markdown",
      "source": [
        "In the end we will validate aftwards by manually (sample based) checking correctness of clustering. Here we can always change of documents to the full texts instead of these document containing the summary / main claim made in the document."
      ],
      "metadata": {
        "id": "03qn_WJMVwKU"
      }
    },
    {
      "cell_type": "markdown",
      "source": [
        "\n",
        "&nbsp;"
      ],
      "metadata": {
        "id": "99VTRUC_zCn3"
      }
    },
    {
      "cell_type": "code",
      "source": [
        "print(len(df1['text']))\n",
        "#print(df1['text'][2])\n",
        "#print(len(df2['text']))"
      ],
      "metadata": {
        "colab": {
          "base_uri": "https://localhost:8080/"
        },
        "id": "hdL38raSXxn6",
        "outputId": "c432aa16-cc1b-4679-a5f0-7b5ef4e7a9f3"
      },
      "execution_count": null,
      "outputs": [
        {
          "output_type": "stream",
          "name": "stdout",
          "text": [
            "7366\n"
          ]
        }
      ]
    },
    {
      "cell_type": "markdown",
      "source": [
        "I will now take our text data and take it into the form of a series. \n",
        "This will make it easier to: \n",
        "\n",
        "*   count words of the whole series for plotting\n",
        "* find docs that might be too short for LDA (and count how many)\n",
        "*   create a (n*K) sparse document matrix\n",
        "\n",
        "\n"
      ],
      "metadata": {
        "id": "EWk0k6pWW1lY"
      }
    },
    {
      "cell_type": "code",
      "source": [
        "#make everyhting lowercase, and turn that into a single column (as in remove the (extra) index column)\n",
        "series1_noindex = df1['text'].str.lower()\n",
        "# note to self: as we now take content from only one column, the datatype becomes a 'series' instead of a df.."
      ],
      "metadata": {
        "id": "KrRupcCOFbAw"
      },
      "execution_count": null,
      "outputs": []
    },
    {
      "cell_type": "code",
      "source": [
        "series1_noindex.shape\n",
        "#type(df1_noindex)"
      ],
      "metadata": {
        "colab": {
          "base_uri": "https://localhost:8080/"
        },
        "id": "k7FrR1CqFstG",
        "outputId": "1aae27c1-0352-42ae-c1b6-004c42080860"
      },
      "execution_count": null,
      "outputs": [
        {
          "output_type": "execute_result",
          "data": {
            "text/plain": [
              "(7366,)"
            ]
          },
          "metadata": {},
          "execution_count": 33
        }
      ]
    },
    {
      "cell_type": "code",
      "source": [
        "# since our series is too large to eyeball over, let's search for any row that is shorter than 25 characters\n",
        "# this will help us spot if there is a mistake (like a single word or tag as a whole text), but also in general help us spot\n",
        "# how many rows will be of little value to LDA due to the shortness..\n",
        "too_short = (series1_noindex.str.len() < 25)\n",
        "series2 = series1_noindex.loc[too_short]\n",
        "print(series2)\n",
        "#this operation can be done on a series, not on a dataframe, so better now than later when turned back to df."
      ],
      "metadata": {
        "colab": {
          "base_uri": "https://localhost:8080/"
        },
        "id": "5ezi9plTau2X",
        "outputId": "76e6bd43-a22f-49e9-842e-890c2ad17b9b"
      },
      "execution_count": null,
      "outputs": [
        {
          "output_type": "stream",
          "name": "stdout",
          "text": [
            "5608    georgia is a us colony.\n",
            "5637        nato supports isis.\n",
            "5959       nato is a us puppet.\n",
            "Name: text, dtype: object\n"
          ]
        }
      ]
    },
    {
      "cell_type": "code",
      "source": [
        "#testing\n",
        "#series3 = series1_noindex\n",
        "#from nltk.stem.snowball import SnowballStemmer\n",
        "#stemmer = SnowballStemmer('english')\n",
        "#new_corpus=[' '.join([stemmer.stem(word) for word in text.split(' ')])\n",
        "#          for text in words]"
      ],
      "metadata": {
        "id": "UsMAX1jLcD7o"
      },
      "execution_count": null,
      "outputs": []
    },
    {
      "cell_type": "code",
      "source": [
        "from nltk.stem import SnowballStemmer\n",
        "snowball = SnowballStemmer(language='english')\n",
        "\n",
        "from nltk.stem import PorterStemmer\n",
        "porter = PorterStemmer()"
      ],
      "metadata": {
        "id": "E6-rSsLudp5C"
      },
      "execution_count": null,
      "outputs": []
    },
    {
      "cell_type": "code",
      "source": [
        "stem_or_lem_list = ['testing','russian', 'Russian', 'ukrainian', 'european', 'western', 'houses', 'leaves']"
      ],
      "metadata": {
        "id": "1ueuHV7aeWYv"
      },
      "execution_count": null,
      "outputs": []
    },
    {
      "cell_type": "code",
      "source": [
        "stemwords = [porter.stem(item) for item in stem_or_lem_list]\n",
        "print('porter stemmer result: {}'.format(stemwords))"
      ],
      "metadata": {
        "colab": {
          "base_uri": "https://localhost:8080/"
        },
        "id": "ANmNkoYOd0si",
        "outputId": "41877cef-5517-474a-d462-7c35b3579b9b"
      },
      "execution_count": null,
      "outputs": [
        {
          "output_type": "stream",
          "name": "stdout",
          "text": [
            "porter stemmer result: ['test', 'russian', 'russian', 'ukrainian', 'european', 'western', 'hous']\n"
          ]
        }
      ]
    },
    {
      "cell_type": "code",
      "source": [
        "stemwords = [snowball.stem(item) for item in stem_or_lem_list]\n",
        "print('snowball stemmer result: {}'.format(stemwords))"
      ],
      "metadata": {
        "colab": {
          "base_uri": "https://localhost:8080/"
        },
        "id": "Z4R_I9icsbK1",
        "outputId": "9e46ebd1-82c3-4588-f0ec-d70d1882f5c8"
      },
      "execution_count": null,
      "outputs": [
        {
          "output_type": "stream",
          "name": "stdout",
          "text": [
            "snowball stemmer result: ['test', 'russian', 'russian', 'ukrainian', 'european', 'western', 'hous']\n"
          ]
        }
      ]
    },
    {
      "cell_type": "markdown",
      "source": [
        "Here we can see that our stemmers techincally work (as 'testing' becomes 'test', yet is does not work to change e.g. 'russian' to 'russia'. So the 'demonyms' are problematic.\n",
        "\n",
        "Before we get into some exotic stemmers we should perhaps try lemmatizaion first (lemmatization work based on actual exisiting words, this means it is more computation extensive but perhaps it will force denonyms to their noun).\n"
      ],
      "metadata": {
        "id": "LwPlM4XHhgeW"
      }
    },
    {
      "cell_type": "code",
      "source": [
        "from nltk.stem import WordNetLemmatizer\n",
        "lemm = WordNetLemmatizer()"
      ],
      "metadata": {
        "id": "7URVrr6Ir32L"
      },
      "execution_count": null,
      "outputs": []
    },
    {
      "cell_type": "code",
      "source": [
        "#import nltk\n",
        "#nltk.download()             #select 'wordnet' to download only the wordnet package\n",
        "lemm = WordNetLemmatizer()"
      ],
      "metadata": {
        "id": "h0kp7yExtSGe"
      },
      "execution_count": null,
      "outputs": []
    },
    {
      "cell_type": "code",
      "source": [
        "stemwords = [lemm.lemmatize(item) for item in stem_or_lem_list]\n",
        "print('wordnet lemmatizer result: {}'.format(stemwords))"
      ],
      "metadata": {
        "colab": {
          "base_uri": "https://localhost:8080/"
        },
        "id": "Hdfwsz8Ku_t2",
        "outputId": "7f2cbd70-bb3a-48fc-8d29-83cf70286667"
      },
      "execution_count": null,
      "outputs": [
        {
          "output_type": "stream",
          "name": "stdout",
          "text": [
            "wordnet lemmatizer result: ['testing', 'russian', 'Russian', 'ukrainian', 'european', 'western', 'house', 'leaf']\n"
          ]
        }
      ]
    },
    {
      "cell_type": "markdown",
      "source": [
        "We see it looks interesting, especially in how it turn plural to singular (e.g. leaves to leaf), but it does not solve our problem with the demonyms.."
      ],
      "metadata": {
        "id": "nt7MtBIKwy5i"
      }
    },
    {
      "cell_type": "markdown",
      "source": [
        "Let's try a more exotic stemmer known for its aggressiveness"
      ],
      "metadata": {
        "id": "jeduETVBxDF3"
      }
    },
    {
      "cell_type": "code",
      "source": [
        "from nltk.stem import LancasterStemmer\n",
        "lanc = LancasterStemmer()"
      ],
      "metadata": {
        "id": "Zoy3DrWaiIKP"
      },
      "execution_count": null,
      "outputs": []
    },
    {
      "cell_type": "code",
      "source": [
        "stemwords = [lanc.stem(item) for item in stem_or_lem_list]\n",
        "print('lanc stemmer result: {}'.format(stemwords))"
      ],
      "metadata": {
        "colab": {
          "base_uri": "https://localhost:8080/"
        },
        "id": "X2aFyyFTidXb",
        "outputId": "8cc15d0c-1d1f-49c3-80e7-d61ebe2d755b"
      },
      "execution_count": null,
      "outputs": [
        {
          "output_type": "stream",
          "name": "stdout",
          "text": [
            "lanc stemmer result: ['test', 'russ', 'russ', 'ukrain', 'europ', 'western', 'hous']\n"
          ]
        }
      ]
    },
    {
      "cell_type": "markdown",
      "source": [
        "&nbsp;\n",
        "&nbsp;\n"
      ],
      "metadata": {
        "id": "W3-LoRCgwODR"
      }
    },
    {
      "cell_type": "markdown",
      "source": [
        "\n",
        "Success!\n",
        "\n",
        "So we have now learnt that out of three different stemming methodologies (Porter, Snowball, Lancaster) and the most used lemmatization methodology (WordNet) only the lancaster stemmer does what we need for our LDA\n",
        "\n",
        "\n"
      ],
      "metadata": {
        "id": "Bnmv1bXGk_cC"
      }
    },
    {
      "cell_type": "markdown",
      "source": [
        "&nbsp;\n",
        "&nbsp;\n"
      ],
      "metadata": {
        "id": "DTh1mCk9wKDW"
      }
    },
    {
      "cell_type": "code",
      "source": [
        "#fixing the missing header and duplicate in form of dataframe\n",
        "df2 = pd.DataFrame(series1_noindex, columns=['text'])\n",
        "df2['text'] = df2['text'].str.strip()\n",
        "df2.head()\n",
        "#the leading spaces can be seen, however they technically are not there (? very strange but for now I dont see it as problematic)"
      ],
      "metadata": {
        "colab": {
          "base_uri": "https://localhost:8080/",
          "height": 206
        },
        "id": "nakTMXGdcXNX",
        "outputId": "93792a13-9efd-4642-f4df-28e0e6bfa613"
      },
      "execution_count": null,
      "outputs": [
        {
          "output_type": "execute_result",
          "data": {
            "text/plain": [
              "                                                text\n",
              "0  ukraine has put itself in a situation when ext...\n",
              "1  regardless who was behind the recent attack on...\n",
              "2  pilsudski is a historical figure, who establis...\n",
              "3  washington (and to a large degree brussels) ar...\n",
              "4  the beneficiary of the resolution of the europ..."
            ],
            "text/html": [
              "\n",
              "  <div id=\"df-e2a6d560-4bd7-4371-bce2-bb88bc38d3d2\">\n",
              "    <div class=\"colab-df-container\">\n",
              "      <div>\n",
              "<style scoped>\n",
              "    .dataframe tbody tr th:only-of-type {\n",
              "        vertical-align: middle;\n",
              "    }\n",
              "\n",
              "    .dataframe tbody tr th {\n",
              "        vertical-align: top;\n",
              "    }\n",
              "\n",
              "    .dataframe thead th {\n",
              "        text-align: right;\n",
              "    }\n",
              "</style>\n",
              "<table border=\"1\" class=\"dataframe\">\n",
              "  <thead>\n",
              "    <tr style=\"text-align: right;\">\n",
              "      <th></th>\n",
              "      <th>text</th>\n",
              "    </tr>\n",
              "  </thead>\n",
              "  <tbody>\n",
              "    <tr>\n",
              "      <th>0</th>\n",
              "      <td>ukraine has put itself in a situation when ext...</td>\n",
              "    </tr>\n",
              "    <tr>\n",
              "      <th>1</th>\n",
              "      <td>regardless who was behind the recent attack on...</td>\n",
              "    </tr>\n",
              "    <tr>\n",
              "      <th>2</th>\n",
              "      <td>pilsudski is a historical figure, who establis...</td>\n",
              "    </tr>\n",
              "    <tr>\n",
              "      <th>3</th>\n",
              "      <td>washington (and to a large degree brussels) ar...</td>\n",
              "    </tr>\n",
              "    <tr>\n",
              "      <th>4</th>\n",
              "      <td>the beneficiary of the resolution of the europ...</td>\n",
              "    </tr>\n",
              "  </tbody>\n",
              "</table>\n",
              "</div>\n",
              "      <button class=\"colab-df-convert\" onclick=\"convertToInteractive('df-e2a6d560-4bd7-4371-bce2-bb88bc38d3d2')\"\n",
              "              title=\"Convert this dataframe to an interactive table.\"\n",
              "              style=\"display:none;\">\n",
              "        \n",
              "  <svg xmlns=\"http://www.w3.org/2000/svg\" height=\"24px\"viewBox=\"0 0 24 24\"\n",
              "       width=\"24px\">\n",
              "    <path d=\"M0 0h24v24H0V0z\" fill=\"none\"/>\n",
              "    <path d=\"M18.56 5.44l.94 2.06.94-2.06 2.06-.94-2.06-.94-.94-2.06-.94 2.06-2.06.94zm-11 1L8.5 8.5l.94-2.06 2.06-.94-2.06-.94L8.5 2.5l-.94 2.06-2.06.94zm10 10l.94 2.06.94-2.06 2.06-.94-2.06-.94-.94-2.06-.94 2.06-2.06.94z\"/><path d=\"M17.41 7.96l-1.37-1.37c-.4-.4-.92-.59-1.43-.59-.52 0-1.04.2-1.43.59L10.3 9.45l-7.72 7.72c-.78.78-.78 2.05 0 2.83L4 21.41c.39.39.9.59 1.41.59.51 0 1.02-.2 1.41-.59l7.78-7.78 2.81-2.81c.8-.78.8-2.07 0-2.86zM5.41 20L4 18.59l7.72-7.72 1.47 1.35L5.41 20z\"/>\n",
              "  </svg>\n",
              "      </button>\n",
              "      \n",
              "  <style>\n",
              "    .colab-df-container {\n",
              "      display:flex;\n",
              "      flex-wrap:wrap;\n",
              "      gap: 12px;\n",
              "    }\n",
              "\n",
              "    .colab-df-convert {\n",
              "      background-color: #E8F0FE;\n",
              "      border: none;\n",
              "      border-radius: 50%;\n",
              "      cursor: pointer;\n",
              "      display: none;\n",
              "      fill: #1967D2;\n",
              "      height: 32px;\n",
              "      padding: 0 0 0 0;\n",
              "      width: 32px;\n",
              "    }\n",
              "\n",
              "    .colab-df-convert:hover {\n",
              "      background-color: #E2EBFA;\n",
              "      box-shadow: 0px 1px 2px rgba(60, 64, 67, 0.3), 0px 1px 3px 1px rgba(60, 64, 67, 0.15);\n",
              "      fill: #174EA6;\n",
              "    }\n",
              "\n",
              "    [theme=dark] .colab-df-convert {\n",
              "      background-color: #3B4455;\n",
              "      fill: #D2E3FC;\n",
              "    }\n",
              "\n",
              "    [theme=dark] .colab-df-convert:hover {\n",
              "      background-color: #434B5C;\n",
              "      box-shadow: 0px 1px 3px 1px rgba(0, 0, 0, 0.15);\n",
              "      filter: drop-shadow(0px 1px 2px rgba(0, 0, 0, 0.3));\n",
              "      fill: #FFFFFF;\n",
              "    }\n",
              "  </style>\n",
              "\n",
              "      <script>\n",
              "        const buttonEl =\n",
              "          document.querySelector('#df-e2a6d560-4bd7-4371-bce2-bb88bc38d3d2 button.colab-df-convert');\n",
              "        buttonEl.style.display =\n",
              "          google.colab.kernel.accessAllowed ? 'block' : 'none';\n",
              "\n",
              "        async function convertToInteractive(key) {\n",
              "          const element = document.querySelector('#df-e2a6d560-4bd7-4371-bce2-bb88bc38d3d2');\n",
              "          const dataTable =\n",
              "            await google.colab.kernel.invokeFunction('convertToInteractive',\n",
              "                                                     [key], {});\n",
              "          if (!dataTable) return;\n",
              "\n",
              "          const docLinkHtml = 'Like what you see? Visit the ' +\n",
              "            '<a target=\"_blank\" href=https://colab.research.google.com/notebooks/data_table.ipynb>data table notebook</a>'\n",
              "            + ' to learn more about interactive tables.';\n",
              "          element.innerHTML = '';\n",
              "          dataTable['output_type'] = 'display_data';\n",
              "          await google.colab.output.renderOutput(dataTable, element);\n",
              "          const docLink = document.createElement('div');\n",
              "          docLink.innerHTML = docLinkHtml;\n",
              "          element.appendChild(docLink);\n",
              "        }\n",
              "      </script>\n",
              "    </div>\n",
              "  </div>\n",
              "  "
            ]
          },
          "metadata": {},
          "execution_count": 29
        }
      ]
    },
    {
      "cell_type": "markdown",
      "source": [
        "&nbsp;\n",
        "\n",
        "&nbsp;"
      ],
      "metadata": {
        "id": "IhaRR7kpzNpL"
      }
    },
    {
      "cell_type": "markdown",
      "source": [
        "# \"counting words\" \n",
        "\n",
        "Let's count words (regardless of which text) and visualize to get a rough view of the content an its topics as a whole."
      ],
      "metadata": {
        "id": "-b4dbr16wSZp"
      }
    },
    {
      "cell_type": "code",
      "source": [
        "# Define helper function.   //code needed to create the visualization based on countvectorizer \n",
        "def get_top_n_words(n_top_words, count_vectorizer, text_data):\n",
        "    '''\n",
        "    returns a tuple of the top n words from a sample and their \n",
        "    counts, given a CountVectorizer object and text sample\n",
        "    '''\n",
        "    vectorized_headlines = count_vectorizer.fit_transform(text_data.values)\n",
        "    vectorized_total = np.sum(vectorized_headlines, axis=0)\n",
        "    word_indices = np.flip(np.argsort(vectorized_total)[0,:], 1)\n",
        "    word_values = np.flip(np.sort(vectorized_total)[0,:],1)\n",
        "    \n",
        "    word_vectors = np.zeros((n_top_words, vectorized_headlines.shape[1]))\n",
        "    for i in range(n_top_words):\n",
        "        word_vectors[i,word_indices[0,i]] = 1\n",
        "\n",
        "    words = [word[0].encode('ascii').decode('utf-8') for \n",
        "             word in count_vectorizer.inverse_transform(word_vectors)]\n",
        "\n",
        "    return (words, word_values[0,:n_top_words].tolist()[0])"
      ],
      "metadata": {
        "id": "FYR1LHifD6M5"
      },
      "execution_count": null,
      "outputs": []
    },
    {
      "cell_type": "code",
      "source": [
        "count_vectorizer = CountVectorizer(stop_words='english', min_df=5, max_df=.9)\n",
        "words, word_values = get_top_n_words(n_top_words=20,\n",
        "                                     count_vectorizer=count_vectorizer, \n",
        "                                     text_data=series1_noindex)\n",
        "fig, ax = plt.subplots(figsize=(16,8))\n",
        "ax.bar(range(len(words)), word_values);\n",
        "ax.set_xticks(range(len(words)));\n",
        "ax.set_xticklabels(words, rotation='vertical');\n",
        "ax.set_title('Most used words in the articles (excluding stop words)');\n",
        "ax.set_xlabel('Words used in our 7366 articles');\n",
        "ax.set_ylabel('Number of occurence');\n",
        "plt.show()\n",
        "\n",
        "#this will not work when there is even a single missing value / NaN!\n",
        "#also this works on series not on a df"
      ],
      "metadata": {
        "colab": {
          "base_uri": "https://localhost:8080/",
          "height": 550
        },
        "id": "xAtLkcteBedH",
        "outputId": "c074dfcb-aeb5-4a00-ed3d-ae984c5354bd"
      },
      "execution_count": null,
      "outputs": [
        {
          "output_type": "display_data",
          "data": {
            "text/plain": [
              "<Figure size 1152x576 with 1 Axes>"
            ],
            "image/png": "[encoded data removed]"
          },
          "metadata": {
            "needs_background": "light"
          }
        }
      ]
    },
    {
      "cell_type": "markdown",
      "source": [
        "&nbsp;  \n",
        "&nbsp;"
      ],
      "metadata": {
        "id": "66FMrhh8zWlc"
      }
    },
    {
      "cell_type": "markdown",
      "source": [
        "This is already very useful in deciding our next steps.\n",
        "\n",
        "**We can see the following;**\n",
        "1. The need to lemmatize/stem) see for example russia and russian, west and western etc.\n",
        " // while being careful about what this does to 'eu' and 'europe'.\n",
        "2. If we were to use tf-idf, we probably want to remove 'russia' (its stems) first. However, we would not want to remove Ukrain eventhough the difference is not even that large. This because where a selfreference using a country name is simply conceptually very different from using a neighbouring country's name, in terms of meaning. This means we have to be carefull when using the parameter that removes word based on cross document occurance.\n",
        "3. With regards to the actual content, we here see our first hint -from articles published between Jan 25th 2015 and Jan 2nd 2020!- that Ukrain was somewhat of an obsession in pro-Kremlin media..\n",
        "//could this in hindsight have been a predictor of the invasion? "
      ],
      "metadata": {
        "id": "9JYb10-_I4xj"
      }
    },
    {
      "cell_type": "markdown",
      "source": [
        "&nbsp;\n",
        "\n",
        "&nbsp;"
      ],
      "metadata": {
        "id": "mxTVYQMbzU6-"
      }
    },
    {
      "cell_type": "markdown",
      "source": [
        "# creating the (sparse) document matrix we need for LSA and LDA"
      ],
      "metadata": {
        "id": "F29VERoWwvSw"
      }
    },
    {
      "cell_type": "markdown",
      "source": [
        "- sample based first!\n",
        "\n",
        "//note to self, here add n-gram option?.. 2 or 3?"
      ],
      "metadata": {
        "id": "v0_AlqDO1Bjx"
      }
    },
    {
      "cell_type": "code",
      "source": [
        "small_count_vectorizer = CountVectorizer(stop_words='english', min_df=1, max_df=.9,  max_features=5000) #I am using sample size multiplied by average word length per doc rounded up. And mind_df to 1 because it's a small sample\n",
        "small_text_sample = series1_noindex.sample(n=100, random_state=0).values\n",
        "\n",
        "print('Headline before vectorization: {}'.format(small_text_sample[1]))\n",
        "\n",
        "small_document_term_matrix = small_count_vectorizer.fit_transform(small_text_sample)\n",
        "\n",
        "print('Headline after vectorization: \\n{}'.format(small_document_term_matrix[1]))"
      ],
      "metadata": {
        "colab": {
          "base_uri": "https://localhost:8080/"
        },
        "id": "hqhrIFq-Cdz2",
        "outputId": "325d93db-6cec-4b22-8bb0-79ac38714d3e"
      },
      "execution_count": null,
      "outputs": [
        {
          "output_type": "stream",
          "name": "stdout",
          "text": [
            "Headline before vectorization: the turkish nationalist organization grey wolves could have participated in the downing of the russian a321 in egypt.\n",
            "Headline after vectorization: \n",
            "  (0, 793)\t1\n",
            "  (0, 1187)\t1\n",
            "  (0, 727)\t1\n",
            "  (0, 492)\t1\n",
            "  (0, 1262)\t1\n",
            "  (0, 807)\t1\n",
            "  (0, 341)\t1\n",
            "  (0, 1002)\t1\n",
            "  (0, 20)\t1\n",
            "  (0, 356)\t1\n"
          ]
        }
      ]
    },
    {
      "cell_type": "markdown",
      "source": [
        "- full 6k+ texts to n*K sparse doc matrix"
      ],
      "metadata": {
        "id": "BQzTad8o1LpZ"
      }
    },
    {
      "cell_type": "code",
      "source": [
        "fullN = len(df1['text'])\n",
        "\n",
        "large_count_vectorizer = CountVectorizer(stop_words='english', max_features=50000) #I am using sample size multiplied by average word length per doc rounded up.\n",
        "large_text_sample = series1_noindex.sample(n=fullN, random_state=0).values\n",
        "\n",
        "print('Headline before vectorization: {}'.format(large_text_sample[1]))\n",
        "\n",
        "large_document_term_matrix = large_count_vectorizer.fit_transform(large_text_sample)\n",
        "\n",
        "print('Headline after vectorization: \\n{}'.format(large_document_term_matrix[1]))"
      ],
      "metadata": {
        "colab": {
          "base_uri": "https://localhost:8080/"
        },
        "id": "TgWj7Jo81Yuw",
        "outputId": "77806799-0c7c-4fbd-dac7-13dcc9fedf62"
      },
      "execution_count": null,
      "outputs": [
        {
          "output_type": "stream",
          "name": "stdout",
          "text": [
            "Headline before vectorization: the turkish nationalist organization grey wolves could have participated in the downing of the russian a321 in egypt.\n",
            "Headline after vectorization: \n",
            "  (0, 8670)\t1\n",
            "  (0, 12641)\t1\n",
            "  (0, 8202)\t1\n",
            "  (0, 5547)\t1\n",
            "  (0, 13431)\t1\n",
            "  (0, 8888)\t1\n",
            "  (0, 3995)\t1\n",
            "  (0, 10724)\t1\n",
            "  (0, 316)\t1\n",
            "  (0, 4178)\t1\n"
          ]
        }
      ]
    },
    {
      "cell_type": "markdown",
      "source": [
        "&nbsp;"
      ],
      "metadata": {
        "id": "91QpvxJvzbNi"
      }
    },
    {
      "cell_type": "markdown",
      "source": [
        "This is starting to look great!  \n",
        "We have in essence a n*K document matrix now.\n",
        "(K = number of distinct words, and n = our texts (docs))\n",
        "\n",
        "With our sparse matrix we can go ahead and do Latent Semantic Analysis ans also Latent Dirichlet Allocation, and then do sample-based checks to see how well we are doing."
      ],
      "metadata": {
        "id": "WpTPTXXzkual"
      }
    },
    {
      "cell_type": "markdown",
      "source": [
        "&nbsp;\n",
        "\n",
        "&nbsp;"
      ],
      "metadata": {
        "id": "Qgg60UiLzdRA"
      }
    },
    {
      "cell_type": "markdown",
      "source": [
        "# Latent Semantic Analysis (LSA)"
      ],
      "metadata": {
        "id": "1mn_KXsQrDmX"
      }
    },
    {
      "cell_type": "code",
      "source": [
        "n_topics = 10 #starting off at 10"
      ],
      "metadata": {
        "id": "s4V3CfFRlDJH"
      },
      "execution_count": null,
      "outputs": []
    },
    {
      "cell_type": "code",
      "source": [
        "lsa_model = TruncatedSVD(n_components=n_topics)\n",
        "lsa_topic_matrix = lsa_model.fit_transform(small_document_term_matrix)"
      ],
      "metadata": {
        "id": "yGJ8OGdVmUHq"
      },
      "execution_count": null,
      "outputs": []
    },
    {
      "cell_type": "markdown",
      "source": [
        "Taking the argmax of each text to give the predicted topics of each text in the sample. \n",
        "We can then cluster each text by topic."
      ],
      "metadata": {
        "id": "KX_SBdn9m8C0"
      }
    },
    {
      "cell_type": "code",
      "source": [
        "# Define helper functions\n",
        "def get_keys(topic_matrix):\n",
        "    '''\n",
        "    returns an integer list of predicted topic \n",
        "    categories for a given topic matrix\n",
        "    '''\n",
        "    keys = topic_matrix.argmax(axis=1).tolist()\n",
        "    return keys\n",
        "\n",
        "def keys_to_counts(keys):\n",
        "    '''\n",
        "    returns a tuple of topic categories and their \n",
        "    accompanying magnitudes for a given list of keys\n",
        "    '''\n",
        "    count_pairs = Counter(keys).items()\n",
        "    categories = [pair[0] for pair in count_pairs]\n",
        "    counts = [pair[1] for pair in count_pairs]\n",
        "    return (categories, counts)"
      ],
      "metadata": {
        "id": "U61A0y_HmfIt"
      },
      "execution_count": null,
      "outputs": []
    },
    {
      "cell_type": "code",
      "source": [
        "lsa_keys = get_keys(lsa_topic_matrix)\n",
        "lsa_categories, lsa_counts = keys_to_counts(lsa_keys)"
      ],
      "metadata": {
        "id": "60U-3WmHnVwr"
      },
      "execution_count": null,
      "outputs": []
    },
    {
      "cell_type": "markdown",
      "source": [
        "But we are not there yet..\n",
        "In order for this to be any meaningful, we need to get the mosst frequently used words for each topic in order to actually understand the topics (and thereby the clustering)"
      ],
      "metadata": {
        "id": "DBnxA4Mandtv"
      }
    },
    {
      "cell_type": "code",
      "source": [
        "# Define helper functions\n",
        "def get_top_n_words(n, keys, document_term_matrix, count_vectorizer):\n",
        "    '''\n",
        "    returns a list of n_topic strings, where each string contains the n most common \n",
        "    words in a predicted category, in order\n",
        "    '''\n",
        "    top_word_indices = []\n",
        "    for topic in range(n_topics):\n",
        "        temp_vector_sum = 0\n",
        "        for i in range(len(keys)):\n",
        "            if keys[i] == topic:\n",
        "                temp_vector_sum += document_term_matrix[i]\n",
        "        temp_vector_sum = temp_vector_sum.toarray()\n",
        "        top_n_word_indices = np.flip(np.argsort(temp_vector_sum)[0][-n:],0)\n",
        "        top_word_indices.append(top_n_word_indices)   \n",
        "    top_words = []\n",
        "    for topic in top_word_indices:\n",
        "        topic_words = []\n",
        "        for index in topic:\n",
        "            temp_word_vector = np.zeros((1,document_term_matrix.shape[1]))\n",
        "            temp_word_vector[:,index] = 1\n",
        "            the_word = count_vectorizer.inverse_transform(temp_word_vector)[0][0]\n",
        "            topic_words.append(the_word.encode('ascii').decode('utf-8'))\n",
        "        top_words.append(\" \".join(topic_words))         \n",
        "    return top_words"
      ],
      "metadata": {
        "id": "uq79liDBnY7A"
      },
      "execution_count": null,
      "outputs": []
    },
    {
      "cell_type": "code",
      "source": [
        "top_n_words_lsa = get_top_n_words(10, lsa_keys, small_document_term_matrix, small_count_vectorizer)\n",
        "\n",
        "for i in range(len(top_n_words_lsa)):\n",
        "    print(\"Topic {}: \".format(i+1), top_n_words_lsa[i])"
      ],
      "metadata": {
        "colab": {
          "base_uri": "https://localhost:8080/"
        },
        "id": "hNw4wc5lnu4M",
        "outputId": "42bb270f-d318-4b49-a6a5-a1bef325f242"
      },
      "execution_count": null,
      "outputs": [
        {
          "output_type": "stream",
          "name": "stdout",
          "text": [
            "Topic 1:  russia ukraine ukrainian west russian crimea president anti eu country\n",
            "Topic 2:  doping swedish using athletes documents sweden number allegedly previously sports\n",
            "Topic 3:  elections nbsp donbas democracy western dnr main organise countries lnr\n",
            "Topic 4:  people poroshenko left ukraine ukrainian president power orthodox country fascism\n",
            "Topic 5:  office city criminal christmas groups justice prosecutor states moldovan market\n",
            "Topic 6:  nazism germany ussr european german lithuania pact nbsp aggression union\n",
            "Topic 7:  ukraine cia revolution peoples euromaidan government velvet luhansk followers coup\n",
            "Topic 8:  anisim alena presidential belarusian schools affairs obama national language values\n",
            "Topic 9:  nato military russian europe recording georgia abkhazia bellingcat anti website\n",
            "Topic 10:  luhansk self vatican officially donetsk peoples recognized proclaimed republics fell\n"
          ]
        }
      ]
    },
    {
      "cell_type": "markdown",
      "source": [
        "....notice topic 10..."
      ],
      "metadata": {
        "id": "gJ--sj7Un_It"
      }
    },
    {
      "cell_type": "code",
      "source": [
        "top_4_words = get_top_n_words(4, lsa_keys, small_document_term_matrix, small_count_vectorizer)\n",
        "labels = ['Topic {}: \\n'.format(i+1) + top_4_words[i] for i in lsa_categories]\n",
        "\n",
        "fig, ax = plt.subplots(figsize=(30,8))\n",
        "ax.bar(lsa_categories, lsa_counts);\n",
        "ax.set_xticks(lsa_categories);\n",
        "ax.set_xticklabels(labels);\n",
        "ax.set_ylabel('Number of headlines');\n",
        "ax.set_title('LSA topic counts');\n",
        "plt.show()"
      ],
      "metadata": {
        "colab": {
          "base_uri": "https://localhost:8080/",
          "height": 422
        },
        "id": "WLWEcwjBnyvs",
        "outputId": "2cb3f635-a838-419d-db70-b65a2c050dce"
      },
      "execution_count": null,
      "outputs": [
        {
          "output_type": "display_data",
          "data": {
            "text/plain": [
              "<Figure size 2160x576 with 1 Axes>"
            ],
            "image/png": "[encoded data removed]"
          },
          "metadata": {
            "needs_background": "light"
          }
        }
      ]
    },
    {
      "cell_type": "code",
      "source": [
        "#copied code TEMP\n",
        "tsne_lsa_model = TSNE(n_components=2, perplexity=50, learning_rate=100, \n",
        "                        n_iter=2000, verbose=1, random_state=0, angle=0.75)\n",
        "tsne_lsa_vectors = tsne_lsa_model.fit_transform(lsa_topic_matrix)"
      ],
      "metadata": {
        "colab": {
          "base_uri": "https://localhost:8080/"
        },
        "id": "UIjfPJB3pbZ8",
        "outputId": "584f22a6-8b0d-4053-e132-81e4d29e717a"
      },
      "execution_count": null,
      "outputs": [
        {
          "output_type": "stream",
          "name": "stderr",
          "text": [
            "/usr/local/lib/python3.7/dist-packages/sklearn/manifold/_t_sne.py:783: FutureWarning: The default initialization in TSNE will change from 'random' to 'pca' in 1.2.\n",
            "  FutureWarning,\n"
          ]
        },
        {
          "output_type": "stream",
          "name": "stdout",
          "text": [
            "[t-SNE] Computing 99 nearest neighbors...\n",
            "[t-SNE] Indexed 100 samples in 0.000s...\n",
            "[t-SNE] Computed neighbors for 100 samples in 0.006s...\n",
            "[t-SNE] Computed conditional probabilities for sample 100 / 100\n",
            "[t-SNE] Mean sigma: 0.868338\n",
            "[t-SNE] KL divergence after 250 iterations with early exaggeration: 47.611862\n",
            "[t-SNE] KL divergence after 700 iterations: 0.111478\n"
          ]
        }
      ]
    },
    {
      "cell_type": "code",
      "source": [
        "# Define helper functions\n",
        "def get_mean_topic_vectors(keys, two_dim_vectors):\n",
        "    '''\n",
        "    returns a list of centroid vectors from each predicted topic category\n",
        "    '''\n",
        "    mean_topic_vectors = []\n",
        "    for t in range(n_topics):\n",
        "        articles_in_that_topic = []\n",
        "        for i in range(len(keys)):\n",
        "            if keys[i] == t:\n",
        "                articles_in_that_topic.append(two_dim_vectors[i])    \n",
        "        \n",
        "        articles_in_that_topic = np.vstack(articles_in_that_topic)\n",
        "        mean_article_in_that_topic = np.mean(articles_in_that_topic, axis=0)\n",
        "        mean_topic_vectors.append(mean_article_in_that_topic)\n",
        "    return mean_topic_vectors"
      ],
      "metadata": {
        "id": "yppFa1qQr77W"
      },
      "execution_count": null,
      "outputs": []
    },
    {
      "cell_type": "code",
      "source": [
        "colormap = np.array([\n",
        "    \"#1f77b4\", \"#aec7e8\", \"#ff7f0e\", \"#ffbb78\", \"#2ca02c\",\n",
        "    \"#98df8a\", \"#d62728\", \"#ff9896\", \"#9467bd\", \"#c5b0d5\",\n",
        "    \"#8c564b\", \"#c49c94\", \"#e377c2\", \"#f7b6d2\", \"#7f7f7f\",\n",
        "    \"#c7c7c7\", \"#bcbd22\", \"#dbdb8d\", \"#17becf\", \"#9edae5\" ])\n",
        "colormap = colormap[:n_topics]"
      ],
      "metadata": {
        "id": "D_qkyRsKr_ya"
      },
      "execution_count": null,
      "outputs": []
    },
    {
      "cell_type": "code",
      "source": [
        "top_4_words_lsa = get_top_n_words(4, lsa_keys, small_document_term_matrix, small_count_vectorizer)\n",
        "lsa_mean_topic_vectors = get_mean_topic_vectors(lsa_keys, tsne_lsa_vectors)\n",
        "\n",
        "plot = figure(title=\"t-SNE Clustering of {} LSA Topics\".format(n_topics), plot_width=700, plot_height=700)\n",
        "plot.scatter(x=tsne_lsa_vectors[:,0], y=tsne_lsa_vectors[:,1], color=colormap[lsa_keys])\n",
        "\n",
        "for t in range(n_topics):\n",
        "    label = Label(x=lsa_mean_topic_vectors[t][0], y=lsa_mean_topic_vectors[t][1], \n",
        "                  text=top_4_words_lsa[t], text_color=colormap[t])\n",
        "    plot.add_layout(label)\n",
        "    \n",
        "show(plot)"
      ],
      "metadata": {
        "colab": {
          "base_uri": "https://localhost:8080/",
          "height": 717
        },
        "id": "YXizJgBjsENp",
        "outputId": "852ff946-2c33-48a7-aa54-55c2b0098ebd"
      },
      "execution_count": null,
      "outputs": [
        {
          "output_type": "display_data",
          "data": {
            "application/javascript": [
              "\n",
              "(function(root) {\n",
              "  function now() {\n",
              "    return new Date();\n",
              "  }\n",
              "\n",
              "  var force = true;\n",
              "\n",
              "  if (typeof root._bokeh_onload_callbacks === \"undefined\" || force === true) {\n",
              "    root._bokeh_onload_callbacks = [];\n",
              "    root._bokeh_is_loading = undefined;\n",
              "  }\n",
              "\n",
              "  var JS_MIME_TYPE = 'application/javascript';\n",
              "  var HTML_MIME_TYPE = 'text/html';\n",
              "  var EXEC_MIME_TYPE = 'application/vnd.bokehjs_exec.v0+json';\n",
              "  var CLASS_NAME = 'output_bokeh rendered_html';\n",
              "\n",
              "  /**\n",
              "   * Render data to the DOM node\n",
              "   */\n",
              "  function render(props, node) {\n",
              "    var script = document.createElement(\"script\");\n",
              "    node.appendChild(script);\n",
              "  }\n",
              "\n",
              "  /**\n",
              "   * Handle when an output is cleared or removed\n",
              "   */\n",
              "  function handleClearOutput(event, handle) {\n",
              "    var cell = handle.cell;\n",
              "\n",
              "    var id = cell.output_area._bokeh_element_id;\n",
              "    var server_id = cell.output_area._bokeh_server_id;\n",
              "    // Clean up Bokeh references\n",
              "    if (id != null && id in Bokeh.index) {\n",
              "      Bokeh.index[id].model.document.clear();\n",
              "      delete Bokeh.index[id];\n",
              "    }\n",
              "\n",
              "    if (server_id !== undefined) {\n",
              "      // Clean up Bokeh references\n",
              "      var cmd = \"from bokeh.io.state import curstate; print(curstate().uuid_to_server['\" + server_id + \"'].get_sessions()[0].document.roots[0]._id)\";\n",
              "      cell.notebook.kernel.execute(cmd, {\n",
              "        iopub: {\n",
              "          output: function(msg) {\n",
              "            var id = msg.content.text.trim();\n",
              "            if (id in Bokeh.index) {\n",
              "              Bokeh.index[id].model.document.clear();\n",
              "              delete Bokeh.index[id];\n",
              "            }\n",
              "          }\n",
              "        }\n",
              "      });\n",
              "      // Destroy server and session\n",
              "      var cmd = \"import bokeh.io.notebook as ion; ion.destroy_server('\" + server_id + \"')\";\n",
              "      cell.notebook.kernel.execute(cmd);\n",
              "    }\n",
              "  }\n",
              "\n",
              "  /**\n",
              "   * Handle when a new output is added\n",
              "   */\n",
              "  function handleAddOutput(event, handle) {\n",
              "    var output_area = handle.output_area;\n",
              "    var output = handle.output;\n",
              "\n",
              "    // limit handleAddOutput to display_data with EXEC_MIME_TYPE content only\n",
              "    if ((output.output_type != \"display_data\") || (!Object.prototype.hasOwnProperty.call(output.data, EXEC_MIME_TYPE))) {\n",
              "      return\n",
              "    }\n",
              "\n",
              "    var toinsert = output_area.element.find(\".\" + CLASS_NAME.split(' ')[0]);\n",
              "\n",
              "    if (output.metadata[EXEC_MIME_TYPE][\"id\"] !== undefined) {\n",
              "      toinsert[toinsert.length - 1].firstChild.textContent = output.data[JS_MIME_TYPE];\n",
              "      // store reference to embed id on output_area\n",
              "      output_area._bokeh_element_id = output.metadata[EXEC_MIME_TYPE][\"id\"];\n",
              "    }\n",
              "    if (output.metadata[EXEC_MIME_TYPE][\"server_id\"] !== undefined) {\n",
              "      var bk_div = document.createElement(\"div\");\n",
              "      bk_div.innerHTML = output.data[HTML_MIME_TYPE];\n",
              "      var script_attrs = bk_div.children[0].attributes;\n",
              "      for (var i = 0; i < script_attrs.length; i++) {\n",
              "        toinsert[toinsert.length - 1].firstChild.setAttribute(script_attrs[i].name, script_attrs[i].value);\n",
              "        toinsert[toinsert.length - 1].firstChild.textContent = bk_div.children[0].textContent\n",
              "      }\n",
              "      // store reference to server id on output_area\n",
              "      output_area._bokeh_server_id = output.metadata[EXEC_MIME_TYPE][\"server_id\"];\n",
              "    }\n",
              "  }\n",
              "\n",
              "  function register_renderer(events, OutputArea) {\n",
              "\n",
              "    function append_mime(data, metadata, element) {\n",
              "      // create a DOM node to render to\n",
              "      var toinsert = this.create_output_subarea(\n",
              "        metadata,\n",
              "        CLASS_NAME,\n",
              "        EXEC_MIME_TYPE\n",
              "      );\n",
              "      this.keyboard_manager.register_events(toinsert);\n",
              "      // Render to node\n",
              "      var props = {data: data, metadata: metadata[EXEC_MIME_TYPE]};\n",
              "      render(props, toinsert[toinsert.length - 1]);\n",
              "      element.append(toinsert);\n",
              "      return toinsert\n",
              "    }\n",
              "\n",
              "    /* Handle when an output is cleared or removed */\n",
              "    events.on('clear_output.CodeCell', handleClearOutput);\n",
              "    events.on('delete.Cell', handleClearOutput);\n",
              "\n",
              "    /* Handle when a new output is added */\n",
              "    events.on('output_added.OutputArea', handleAddOutput);\n",
              "\n",
              "    /**\n",
              "     * Register the mime type and append_mime function with output_area\n",
              "     */\n",
              "    OutputArea.prototype.register_mime_type(EXEC_MIME_TYPE, append_mime, {\n",
              "      /* Is output safe? */\n",
              "      safe: true,\n",
              "      /* Index of renderer in `output_area.display_order` */\n",
              "      index: 0\n",
              "    });\n",
              "  }\n",
              "\n",
              "  // register the mime type if in Jupyter Notebook environment and previously unregistered\n",
              "  if (root.Jupyter !== undefined) {\n",
              "    var events = require('base/js/events');\n",
              "    var OutputArea = require('notebook/js/outputarea').OutputArea;\n",
              "\n",
              "    if (OutputArea.prototype.mime_types().indexOf(EXEC_MIME_TYPE) == -1) {\n",
              "      register_renderer(events, OutputArea);\n",
              "    }\n",
              "  }\n",
              "\n",
              "  \n",
              "  if (typeof (root._bokeh_timeout) === \"undefined\" || force === true) {\n",
              "    root._bokeh_timeout = Date.now() + 5000;\n",
              "    root._bokeh_failed_load = false;\n",
              "  }\n",
              "\n",
              "  var NB_LOAD_WARNING = {'data': {'text/html':\n",
              "     \"<div style='background-color: #fdd'>\\n\"+\n",
              "     \"<p>\\n\"+\n",
              "     \"BokehJS does not appear to have successfully loaded. If loading BokehJS from CDN, this \\n\"+\n",
              "     \"may be due to a slow or bad network connection. Possible fixes:\\n\"+\n",
              "     \"</p>\\n\"+\n",
              "     \"<ul>\\n\"+\n",
              "     \"<li>re-rerun `output_notebook()` to attempt to load from CDN again, or</li>\\n\"+\n",
              "     \"<li>use INLINE resources instead, as so:</li>\\n\"+\n",
              "     \"</ul>\\n\"+\n",
              "     \"<code>\\n\"+\n",
              "     \"from bokeh.resources import INLINE\\n\"+\n",
              "     \"output_notebook(resources=INLINE)\\n\"+\n",
              "     \"</code>\\n\"+\n",
              "     \"</div>\"}};\n",
              "\n",
              "  function display_loaded() {\n",
              "    var el = document.getElementById(null);\n",
              "    if (el != null) {\n",
              "      el.textContent = \"BokehJS is loading...\";\n",
              "    }\n",
              "    if (root.Bokeh !== undefined) {\n",
              "      if (el != null) {\n",
              "        el.textContent = \"BokehJS \" + root.Bokeh.version + \" successfully loaded.\";\n",
              "      }\n",
              "    } else if (Date.now() < root._bokeh_timeout) {\n",
              "      setTimeout(display_loaded, 100)\n",
              "    }\n",
              "  }\n",
              "\n",
              "\n",
              "  function run_callbacks() {\n",
              "    try {\n",
              "      root._bokeh_onload_callbacks.forEach(function(callback) {\n",
              "        if (callback != null)\n",
              "          callback();\n",
              "      });\n",
              "    } finally {\n",
              "      delete root._bokeh_onload_callbacks\n",
              "    }\n",
              "    console.debug(\"Bokeh: all callbacks have finished\");\n",
              "  }\n",
              "\n",
              "  function load_libs(css_urls, js_urls, callback) {\n",
              "    if (css_urls == null) css_urls = [];\n",
              "    if (js_urls == null) js_urls = [];\n",
              "\n",
              "    root._bokeh_onload_callbacks.push(callback);\n",
              "    if (root._bokeh_is_loading > 0) {\n",
              "      console.debug(\"Bokeh: BokehJS is being loaded, scheduling callback at\", now());\n",
              "      return null;\n",
              "    }\n",
              "    if (js_urls == null || js_urls.length === 0) {\n",
              "      run_callbacks();\n",
              "      return null;\n",
              "    }\n",
              "    console.debug(\"Bokeh: BokehJS not loaded, scheduling load and callback at\", now());\n",
              "    root._bokeh_is_loading = css_urls.length + js_urls.length;\n",
              "\n",
              "    function on_load() {\n",
              "      root._bokeh_is_loading--;\n",
              "      if (root._bokeh_is_loading === 0) {\n",
              "        console.debug(\"Bokeh: all BokehJS libraries/stylesheets loaded\");\n",
              "        run_callbacks()\n",
              "      }\n",
              "    }\n",
              "\n",
              "    function on_error(url) {\n",
              "      console.error(\"failed to load \" + url);\n",
              "    }\n",
              "\n",
              "    for (let i = 0; i < css_urls.length; i++) {\n",
              "      const url = css_urls[i];\n",
              "      const element = document.createElement(\"link\");\n",
              "      element.onload = on_load;\n",
              "      element.onerror = on_error.bind(null, url);\n",
              "      element.rel = \"stylesheet\";\n",
              "      element.type = \"text/css\";\n",
              "      element.href = url;\n",
              "      console.debug(\"Bokeh: injecting link tag for BokehJS stylesheet: \", url);\n",
              "      document.body.appendChild(element);\n",
              "    }\n",
              "\n",
              "    const hashes = {\"https://cdn.bokeh.org/bokeh/release/bokeh-2.3.3.min.js\": \"dM3QQsP+wXdHg42wTqW85BjZQdLNNIXqlPw/BgKoExPmTG7ZLML4EGqLMfqHT6ON\", \"https://cdn.bokeh.org/bokeh/release/bokeh-tables-2.3.3.min.js\": \"8x57I4YuIfu8XyZfFo0XVr2WAT8EK4rh/uDe3wF7YuW2FNUSNEpJbsPaB1nJ2fz2\", \"https://cdn.bokeh.org/bokeh/release/bokeh-widgets-2.3.3.min.js\": \"3QTqdz9LyAm2i0sG5XTePsHec3UHWwVsrOL68SYRoAXsafvfAyqtQ+h440+qIBhS\"};\n",
              "\n",
              "    for (let i = 0; i < js_urls.length; i++) {\n",
              "      const url = js_urls[i];\n",
              "      const element = document.createElement('script');\n",
              "      element.onload = on_load;\n",
              "      element.onerror = on_error.bind(null, url);\n",
              "      element.async = false;\n",
              "      element.src = url;\n",
              "      if (url in hashes) {\n",
              "        element.crossOrigin = \"anonymous\";\n",
              "        element.integrity = \"sha384-\" + hashes[url];\n",
              "      }\n",
              "      console.debug(\"Bokeh: injecting script tag for BokehJS library: \", url);\n",
              "      document.head.appendChild(element);\n",
              "    }\n",
              "  };\n",
              "\n",
              "  function inject_raw_css(css) {\n",
              "    const element = document.createElement(\"style\");\n",
              "    element.appendChild(document.createTextNode(css));\n",
              "    document.body.appendChild(element);\n",
              "  }\n",
              "\n",
              "  \n",
              "  var js_urls = [\"https://cdn.bokeh.org/bokeh/release/bokeh-2.3.3.min.js\", \"https://cdn.bokeh.org/bokeh/release/bokeh-widgets-2.3.3.min.js\", \"https://cdn.bokeh.org/bokeh/release/bokeh-tables-2.3.3.min.js\"];\n",
              "  var css_urls = [];\n",
              "  \n",
              "\n",
              "  var inline_js = [\n",
              "    function(Bokeh) {\n",
              "      Bokeh.set_log_level(\"info\");\n",
              "    },\n",
              "    function(Bokeh) {\n",
              "    \n",
              "    \n",
              "    }\n",
              "  ];\n",
              "\n",
              "  function run_inline_js() {\n",
              "    \n",
              "    if (root.Bokeh !== undefined || force === true) {\n",
              "      \n",
              "    for (var i = 0; i < inline_js.length; i++) {\n",
              "      inline_js[i].call(root, root.Bokeh);\n",
              "    }\n",
              "    } else if (Date.now() < root._bokeh_timeout) {\n",
              "      setTimeout(run_inline_js, 100);\n",
              "    } else if (!root._bokeh_failed_load) {\n",
              "      console.log(\"Bokeh: BokehJS failed to load within specified timeout.\");\n",
              "      root._bokeh_failed_load = true;\n",
              "    } else if (force !== true) {\n",
              "      var cell = $(document.getElementById(null)).parents('.cell').data().cell;\n",
              "      cell.output_area.append_execute_result(NB_LOAD_WARNING)\n",
              "    }\n",
              "\n",
              "  }\n",
              "\n",
              "  if (root._bokeh_is_loading === 0) {\n",
              "    console.debug(\"Bokeh: BokehJS loaded, going straight to plotting\");\n",
              "    run_inline_js();\n",
              "  } else {\n",
              "    load_libs(css_urls, js_urls, function() {\n",
              "      console.debug(\"Bokeh: BokehJS plotting callback run at\", now());\n",
              "      run_inline_js();\n",
              "    });\n",
              "  }\n",
              "}(window));"
            ],
            "application/vnd.bokehjs_load.v0+json": "\n(function(root) {\n  function now() {\n    return new Date();\n  }\n\n  var force = true;\n\n  if (typeof root._bokeh_onload_callbacks === \"undefined\" || force === true) {\n    root._bokeh_onload_callbacks = [];\n    root._bokeh_is_loading = undefined;\n  }\n\n  \n\n  \n  if (typeof (root._bokeh_timeout) === \"undefined\" || force === true) {\n    root._bokeh_timeout = Date.now() + 5000;\n    root._bokeh_failed_load = false;\n  }\n\n  var NB_LOAD_WARNING = {'data': {'text/html':\n     \"<div style='background-color: #fdd'>\\n\"+\n     \"<p>\\n\"+\n     \"BokehJS does not appear to have successfully loaded. If loading BokehJS from CDN, this \\n\"+\n     \"may be due to a slow or bad network connection. Possible fixes:\\n\"+\n     \"</p>\\n\"+\n     \"<ul>\\n\"+\n     \"<li>re-rerun `output_notebook()` to attempt to load from CDN again, or</li>\\n\"+\n     \"<li>use INLINE resources instead, as so:</li>\\n\"+\n     \"</ul>\\n\"+\n     \"<code>\\n\"+\n     \"from bokeh.resources import INLINE\\n\"+\n     \"output_notebook(resources=INLINE)\\n\"+\n     \"</code>\\n\"+\n     \"</div>\"}};\n\n  function display_loaded() {\n    var el = document.getElementById(null);\n    if (el != null) {\n      el.textContent = \"BokehJS is loading...\";\n    }\n    if (root.Bokeh !== undefined) {\n      if (el != null) {\n        el.textContent = \"BokehJS \" + root.Bokeh.version + \" successfully loaded.\";\n      }\n    } else if (Date.now() < root._bokeh_timeout) {\n      setTimeout(display_loaded, 100)\n    }\n  }\n\n\n  function run_callbacks() {\n    try {\n      root._bokeh_onload_callbacks.forEach(function(callback) {\n        if (callback != null)\n          callback();\n      });\n    } finally {\n      delete root._bokeh_onload_callbacks\n    }\n    console.debug(\"Bokeh: all callbacks have finished\");\n  }\n\n  function load_libs(css_urls, js_urls, callback) {\n    if (css_urls == null) css_urls = [];\n    if (js_urls == null) js_urls = [];\n\n    root._bokeh_onload_callbacks.push(callback);\n    if (root._bokeh_is_loading > 0) {\n      console.debug(\"Bokeh: BokehJS is being loaded, scheduling callback at\", now());\n      return null;\n    }\n    if (js_urls == null || js_urls.length === 0) {\n      run_callbacks();\n      return null;\n    }\n    console.debug(\"Bokeh: BokehJS not loaded, scheduling load and callback at\", now());\n    root._bokeh_is_loading = css_urls.length + js_urls.length;\n\n    function on_load() {\n      root._bokeh_is_loading--;\n      if (root._bokeh_is_loading === 0) {\n        console.debug(\"Bokeh: all BokehJS libraries/stylesheets loaded\");\n        run_callbacks()\n      }\n    }\n\n    function on_error(url) {\n      console.error(\"failed to load \" + url);\n    }\n\n    for (let i = 0; i < css_urls.length; i++) {\n      const url = css_urls[i];\n      const element = document.createElement(\"link\");\n      element.onload = on_load;\n      element.onerror = on_error.bind(null, url);\n      element.rel = \"stylesheet\";\n      element.type = \"text/css\";\n      element.href = url;\n      console.debug(\"Bokeh: injecting link tag for BokehJS stylesheet: \", url);\n      document.body.appendChild(element);\n    }\n\n    const hashes = {\"https://cdn.bokeh.org/bokeh/release/bokeh-2.3.3.min.js\": \"dM3QQsP+wXdHg42wTqW85BjZQdLNNIXqlPw/BgKoExPmTG7ZLML4EGqLMfqHT6ON\", \"https://cdn.bokeh.org/bokeh/release/bokeh-tables-2.3.3.min.js\": \"8x57I4YuIfu8XyZfFo0XVr2WAT8EK4rh/uDe3wF7YuW2FNUSNEpJbsPaB1nJ2fz2\", \"https://cdn.bokeh.org/bokeh/release/bokeh-widgets-2.3.3.min.js\": \"3QTqdz9LyAm2i0sG5XTePsHec3UHWwVsrOL68SYRoAXsafvfAyqtQ+h440+qIBhS\"};\n\n    for (let i = 0; i < js_urls.length; i++) {\n      const url = js_urls[i];\n      const element = document.createElement('script');\n      element.onload = on_load;\n      element.onerror = on_error.bind(null, url);\n      element.async = false;\n      element.src = url;\n      if (url in hashes) {\n        element.crossOrigin = \"anonymous\";\n        element.integrity = \"sha384-\" + hashes[url];\n      }\n      console.debug(\"Bokeh: injecting script tag for BokehJS library: \", url);\n      document.head.appendChild(element);\n    }\n  };\n\n  function inject_raw_css(css) {\n    const element = document.createElement(\"style\");\n    element.appendChild(document.createTextNode(css));\n    document.body.appendChild(element);\n  }\n\n  \n  var js_urls = [\"https://cdn.bokeh.org/bokeh/release/bokeh-2.3.3.min.js\", \"https://cdn.bokeh.org/bokeh/release/bokeh-widgets-2.3.3.min.js\", \"https://cdn.bokeh.org/bokeh/release/bokeh-tables-2.3.3.min.js\"];\n  var css_urls = [];\n  \n\n  var inline_js = [\n    function(Bokeh) {\n      Bokeh.set_log_level(\"info\");\n    },\n    function(Bokeh) {\n    \n    \n    }\n  ];\n\n  function run_inline_js() {\n    \n    if (root.Bokeh !== undefined || force === true) {\n      \n    for (var i = 0; i < inline_js.length; i++) {\n      inline_js[i].call(root, root.Bokeh);\n    }\n    } else if (Date.now() < root._bokeh_timeout) {\n      setTimeout(run_inline_js, 100);\n    } else if (!root._bokeh_failed_load) {\n      console.log(\"Bokeh: BokehJS failed to load within specified timeout.\");\n      root._bokeh_failed_load = true;\n    } else if (force !== true) {\n      var cell = $(document.getElementById(null)).parents('.cell').data().cell;\n      cell.output_area.append_execute_result(NB_LOAD_WARNING)\n    }\n\n  }\n\n  if (root._bokeh_is_loading === 0) {\n    console.debug(\"Bokeh: BokehJS loaded, going straight to plotting\");\n    run_inline_js();\n  } else {\n    load_libs(css_urls, js_urls, function() {\n      console.debug(\"Bokeh: BokehJS plotting callback run at\", now());\n      run_inline_js();\n    });\n  }\n}(window));"
          },
          "metadata": {}
        },
        {
          "output_type": "display_data",
          "data": {
            "text/html": [
              "\n",
              "\n",
              "\n",
              "\n",
              "\n",
              "\n",
              "  <div class=\"bk-root\" id=\"ecb25261-3866-4ec1-b7c6-fa78507428e1\" data-root-id=\"1002\"></div>\n"
            ]
          },
          "metadata": {}
        },
        {
          "output_type": "display_data",
          "data": {
            "application/javascript": [
              "(function(root) {\n",
              "  function embed_document(root) {\n",
              "    \n",
              "  var docs_json = {\"84ecd64f-dbf1-4302-a4ad-56127ed79fea\":{\"defs\":[],\"roots\":{\"references\":[{\"attributes\":{\"below\":[{\"id\":\"1013\"}],\"center\":[{\"id\":\"1016\"},{\"id\":\"1020\"},{\"id\":\"1040\"},{\"id\":\"1041\"},{\"id\":\"1042\"},{\"id\":\"1043\"},{\"id\":\"1044\"},{\"id\":\"1045\"},{\"id\":\"1046\"},{\"id\":\"1047\"},{\"id\":\"1048\"},{\"id\":\"1049\"}],\"height\":700,\"left\":[{\"id\":\"1017\"}],\"renderers\":[{\"id\":\"1038\"}],\"title\":{\"id\":\"1003\"},\"toolbar\":{\"id\":\"1028\"},\"width\":700,\"x_range\":{\"id\":\"1005\"},\"x_scale\":{\"id\":\"1009\"},\"y_range\":{\"id\":\"1007\"},\"y_scale\":{\"id\":\"1011\"}},\"id\":\"1002\",\"subtype\":\"Figure\",\"type\":\"Plot\"},{\"attributes\":{\"axis\":{\"id\":\"1013\"},\"ticker\":null},\"id\":\"1016\",\"type\":\"Grid\"},{\"attributes\":{},\"id\":\"1051\",\"type\":\"AllLabels\"},{\"attributes\":{\"text\":\"nazism germany ussr european\",\"text_color\":\"#98df8a\",\"x\":-2.0787951946258545,\"y\":-1.7846733331680298},\"id\":\"1045\",\"type\":\"Label\"},{\"attributes\":{\"text\":\"t-SNE Clustering of 10 LSA Topics\"},\"id\":\"1003\",\"type\":\"Title\"},{\"attributes\":{},\"id\":\"1011\",\"type\":\"LinearScale\"},{\"attributes\":{},\"id\":\"1024\",\"type\":\"SaveTool\"},{\"attributes\":{\"text\":\"people poroshenko left ukraine\",\"text_color\":\"#ffbb78\",\"x\":-0.5048776268959045,\"y\":-0.08634470403194427},\"id\":\"1043\",\"type\":\"Label\"},{\"attributes\":{\"formatter\":{\"id\":\"1052\"},\"major_label_policy\":{\"id\":\"1051\"},\"ticker\":{\"id\":\"1018\"}},\"id\":\"1017\",\"type\":\"LinearAxis\"},{\"attributes\":{\"text\":\"office city criminal christmas\",\"text_color\":\"#2ca02c\",\"x\":-1.1932926177978516,\"y\":-1.728311538696289},\"id\":\"1044\",\"type\":\"Label\"},{\"attributes\":{\"source\":{\"id\":\"1035\"}},\"id\":\"1039\",\"type\":\"CDSView\"},{\"attributes\":{},\"id\":\"1005\",\"type\":\"DataRange1d\"},{\"attributes\":{\"text\":\"anisim alena presidential belarusian\",\"text_color\":\"#ff9896\",\"x\":-1.312991738319397,\"y\":-1.3610233068466187},\"id\":\"1047\",\"type\":\"Label\"},{\"attributes\":{},\"id\":\"1014\",\"type\":\"BasicTicker\"},{\"attributes\":{\"active_multi\":null,\"tools\":[{\"id\":\"1021\"},{\"id\":\"1022\"},{\"id\":\"1023\"},{\"id\":\"1024\"},{\"id\":\"1025\"},{\"id\":\"1026\"}]},\"id\":\"1028\",\"type\":\"Toolbar\"},{\"attributes\":{\"text\":\"russia ukraine ukrainian west\",\"text_color\":\"#1f77b4\",\"x\":-0.012029564939439297,\"y\":-1.5471320152282715},\"id\":\"1040\",\"type\":\"Label\"},{\"attributes\":{\"fill_alpha\":{\"value\":0.1},\"fill_color\":{\"field\":\"fill_color\"},\"line_alpha\":{\"value\":0.1},\"line_color\":{\"field\":\"line_color\"},\"x\":{\"field\":\"x\"},\"y\":{\"field\":\"y\"}},\"id\":\"1037\",\"type\":\"Scatter\"},{\"attributes\":{},\"id\":\"1058\",\"type\":\"UnionRenderers\"},{\"attributes\":{},\"id\":\"1021\",\"type\":\"PanTool\"},{\"attributes\":{\"overlay\":{\"id\":\"1027\"}},\"id\":\"1023\",\"type\":\"BoxZoomTool\"},{\"attributes\":{},\"id\":\"1052\",\"type\":\"BasicTickFormatter\"},{\"attributes\":{\"text\":\"ukraine cia revolution peoples\",\"text_color\":\"#d62728\",\"x\":-0.21371930837631226,\"y\":-0.6117266416549683},\"id\":\"1046\",\"type\":\"Label\"},{\"attributes\":{},\"id\":\"1054\",\"type\":\"AllLabels\"},{\"attributes\":{\"bottom_units\":\"screen\",\"fill_alpha\":0.5,\"fill_color\":\"lightgrey\",\"left_units\":\"screen\",\"level\":\"overlay\",\"line_alpha\":1.0,\"line_color\":\"black\",\"line_dash\":[4,4],\"line_width\":2,\"right_units\":\"screen\",\"syncable\":false,\"top_units\":\"screen\"},\"id\":\"1027\",\"type\":\"BoxAnnotation\"},{\"attributes\":{},\"id\":\"1007\",\"type\":\"DataRange1d\"},{\"attributes\":{\"formatter\":{\"id\":\"1055\"},\"major_label_policy\":{\"id\":\"1054\"},\"ticker\":{\"id\":\"1014\"}},\"id\":\"1013\",\"type\":\"LinearAxis\"},{\"attributes\":{\"axis\":{\"id\":\"1017\"},\"dimension\":1,\"ticker\":null},\"id\":\"1020\",\"type\":\"Grid\"},{\"attributes\":{\"data_source\":{\"id\":\"1035\"},\"glyph\":{\"id\":\"1036\"},\"hover_glyph\":null,\"muted_glyph\":null,\"nonselection_glyph\":{\"id\":\"1037\"},\"view\":{\"id\":\"1039\"}},\"id\":\"1038\",\"type\":\"GlyphRenderer\"},{\"attributes\":{\"text\":\"luhansk self vatican officially\",\"text_color\":\"#c5b0d5\",\"x\":-1.3983858823776245,\"y\":-1.256631851196289},\"id\":\"1049\",\"type\":\"Label\"},{\"attributes\":{\"fill_color\":{\"field\":\"fill_color\"},\"line_color\":{\"field\":\"line_color\"},\"x\":{\"field\":\"x\"},\"y\":{\"field\":\"y\"}},\"id\":\"1036\",\"type\":\"Scatter\"},{\"attributes\":{\"text\":\"nato military russian europe\",\"text_color\":\"#9467bd\",\"x\":-2.646723985671997,\"y\":-1.2077125310897827},\"id\":\"1048\",\"type\":\"Label\"},{\"attributes\":{},\"id\":\"1055\",\"type\":\"BasicTickFormatter\"},{\"attributes\":{},\"id\":\"1022\",\"type\":\"WheelZoomTool\"},{\"attributes\":{},\"id\":\"1009\",\"type\":\"LinearScale\"},{\"attributes\":{},\"id\":\"1025\",\"type\":\"ResetTool\"},{\"attributes\":{},\"id\":\"1059\",\"type\":\"Selection\"},{\"attributes\":{\"text\":\"elections nbsp donbas democracy\",\"text_color\":\"#ff7f0e\",\"x\":-1.3641868829727173,\"y\":-0.3357037603855133},\"id\":\"1042\",\"type\":\"Label\"},{\"attributes\":{},\"id\":\"1026\",\"type\":\"HelpTool\"},{\"attributes\":{\"text\":\"doping swedish using athletes\",\"text_color\":\"#aec7e8\",\"x\":-1.5008740425109863,\"y\":-0.42240962386131287},\"id\":\"1041\",\"type\":\"Label\"},{\"attributes\":{},\"id\":\"1018\",\"type\":\"BasicTicker\"},{\"attributes\":{\"data\":{\"fill_color\":[\"#aec7e8\",\"#1f77b4\",\"#1f77b4\",\"#1f77b4\",\"#aec7e8\",\"#1f77b4\",\"#98df8a\",\"#ffbb78\",\"#1f77b4\",\"#ff9896\",\"#2ca02c\",\"#9467bd\",\"#98df8a\",\"#9467bd\",\"#1f77b4\",\"#ff7f0e\",\"#1f77b4\",\"#ff7f0e\",\"#1f77b4\",\"#ff9896\",\"#2ca02c\",\"#1f77b4\",\"#ffbb78\",\"#aec7e8\",\"#98df8a\",\"#ffbb78\",\"#ffbb78\",\"#1f77b4\",\"#1f77b4\",\"#d62728\",\"#1f77b4\",\"#2ca02c\",\"#1f77b4\",\"#1f77b4\",\"#1f77b4\",\"#9467bd\",\"#1f77b4\",\"#1f77b4\",\"#1f77b4\",\"#1f77b4\",\"#1f77b4\",\"#ff7f0e\",\"#1f77b4\",\"#9467bd\",\"#98df8a\",\"#1f77b4\",\"#ff9896\",\"#98df8a\",\"#1f77b4\",\"#1f77b4\",\"#9467bd\",\"#1f77b4\",\"#9467bd\",\"#9467bd\",\"#1f77b4\",\"#ffbb78\",\"#ff9896\",\"#1f77b4\",\"#1f77b4\",\"#1f77b4\",\"#2ca02c\",\"#1f77b4\",\"#ffbb78\",\"#ff9896\",\"#1f77b4\",\"#1f77b4\",\"#d62728\",\"#1f77b4\",\"#1f77b4\",\"#1f77b4\",\"#9467bd\",\"#aec7e8\",\"#1f77b4\",\"#1f77b4\",\"#9467bd\",\"#1f77b4\",\"#ffbb78\",\"#ff7f0e\",\"#1f77b4\",\"#1f77b4\",\"#ff9896\",\"#1f77b4\",\"#d62728\",\"#ff7f0e\",\"#1f77b4\",\"#ffbb78\",\"#1f77b4\",\"#1f77b4\",\"#1f77b4\",\"#98df8a\",\"#ffbb78\",\"#d62728\",\"#1f77b4\",\"#aec7e8\",\"#c5b0d5\",\"#ff7f0e\",\"#1f77b4\",\"#2ca02c\",\"#1f77b4\",\"#1f77b4\"],\"line_color\":[\"#aec7e8\",\"#1f77b4\",\"#1f77b4\",\"#1f77b4\",\"#aec7e8\",\"#1f77b4\",\"#98df8a\",\"#ffbb78\",\"#1f77b4\",\"#ff9896\",\"#2ca02c\",\"#9467bd\",\"#98df8a\",\"#9467bd\",\"#1f77b4\",\"#ff7f0e\",\"#1f77b4\",\"#ff7f0e\",\"#1f77b4\",\"#ff9896\",\"#2ca02c\",\"#1f77b4\",\"#ffbb78\",\"#aec7e8\",\"#98df8a\",\"#ffbb78\",\"#ffbb78\",\"#1f77b4\",\"#1f77b4\",\"#d62728\",\"#1f77b4\",\"#2ca02c\",\"#1f77b4\",\"#1f77b4\",\"#1f77b4\",\"#9467bd\",\"#1f77b4\",\"#1f77b4\",\"#1f77b4\",\"#1f77b4\",\"#1f77b4\",\"#ff7f0e\",\"#1f77b4\",\"#9467bd\",\"#98df8a\",\"#1f77b4\",\"#ff9896\",\"#98df8a\",\"#1f77b4\",\"#1f77b4\",\"#9467bd\",\"#1f77b4\",\"#9467bd\",\"#9467bd\",\"#1f77b4\",\"#ffbb78\",\"#ff9896\",\"#1f77b4\",\"#1f77b4\",\"#1f77b4\",\"#2ca02c\",\"#1f77b4\",\"#ffbb78\",\"#ff9896\",\"#1f77b4\",\"#1f77b4\",\"#d62728\",\"#1f77b4\",\"#1f77b4\",\"#1f77b4\",\"#9467bd\",\"#aec7e8\",\"#1f77b4\",\"#1f77b4\",\"#9467bd\",\"#1f77b4\",\"#ffbb78\",\"#ff7f0e\",\"#1f77b4\",\"#1f77b4\",\"#ff9896\",\"#1f77b4\",\"#d62728\",\"#ff7f0e\",\"#1f77b4\",\"#ffbb78\",\"#1f77b4\",\"#1f77b4\",\"#1f77b4\",\"#98df8a\",\"#ffbb78\",\"#d62728\",\"#1f77b4\",\"#aec7e8\",\"#c5b0d5\",\"#ff7f0e\",\"#1f77b4\",\"#2ca02c\",\"#1f77b4\",\"#1f77b4\"],\"x\":{\"__ndarray__\":\"QaoYwFyw/79MNau/8AVhvk8XTL/R/4Y+N8TQv0jjO7889B2+HLSPv1NF+7+lgwLAICZCwKrDU8DHdpy+f2HFvzaru7+C7Lq/59NqwJ4rrr/ME5i/QUhKP+qu0Tx+6xHAYKVIwKl2z7+iedI+Lf7BP4kpmT/Jw30/OEbEv/oRBT6Otp4/1/UNvjmm9D9G2l7AMBFvP1K88T/LJtE+H3itP6bL5D+Rk8e/Rv+zPw5g8r9iLJq/AcFvP710v791+gHAyAizv4BRR79luyXAwGUiwKyHVMCUQ37A7gdMP676oj/3nVq/5rfZvuXHqT/k6Sy/rXCvvyjdir/U3QW/iguqv+xYkj9vlI6/IRWmvyjquz/bJcS+cLPqPZaCz78X/IO/7CsCP4QQob6k08u/7/1lPx2E4L/hDKK/wVHEvzXFzD+tsdu/SHdNP3Ynpr/Sy4m/gKMTvjr9PzyO96W/trKHvvqKHD9KB7i/7iLRvyjcPz8ZigJA9FuBv0/+sr/N96O/WprbPoaNyb+r+AnAPBRCwA==\",\"dtype\":\"float32\",\"order\":\"little\",\"shape\":[100]},\"y\":{\"__ndarray__\":\"0PoaP0xLur9h6Z2/EqcawJBuKb/clS7AOla3vyzrNL+l9CfAT84GvySYVMBYUpO/iGkfwLKNp79ojx7Aivf0vuL6s7+cyoa/Xqazv70tnr+GXL+/XLW5v5Ttlz/DSqm+lCYxwEbbGb8E5BM/O45nPj2sab9bZ5U9EeUEwH1PIr/1YDq964ElwP9Reb/D7Ji/8TSlv+kVBj14cVzAazZePvRdi7+tT1C/7pxavx7/mL8vemS/tHlMwHCPX8AVfOq//OUSwHu0w78wIbO/ERKfv9Lzgb/8jbO/dJ3rvVfaGrxfhZy/XOwRwDvTQcBoT0PAQ7rRv5lPjb/Lphe/qEeYvzulEL6/MpU+GM6av2GJPL4wwF/Ash8twFaJmL+L8WC/0+9UwC5eFsCtUIG/ZVmnvyJhSb8LYJ4/CrzLv6MzHD4TDf++hUlpwMF0nL8gZrM+QiE8wKj3l70uu6a/aywbwF/PVj1wcaW/iSVqPot9tL1CxgzAhaRYv1DZoL9M26C/PG0AP72vxr/cjlq/OaUBvw==\",\"dtype\":\"float32\",\"order\":\"little\",\"shape\":[100]}},\"selected\":{\"id\":\"1059\"},\"selection_policy\":{\"id\":\"1058\"}},\"id\":\"1035\",\"type\":\"ColumnDataSource\"}],\"root_ids\":[\"1002\"]},\"title\":\"Bokeh Application\",\"version\":\"2.3.3\"}};\n",
              "  var render_items = [{\"docid\":\"84ecd64f-dbf1-4302-a4ad-56127ed79fea\",\"root_ids\":[\"1002\"],\"roots\":{\"1002\":\"ecb25261-3866-4ec1-b7c6-fa78507428e1\"}}];\n",
              "  root.Bokeh.embed.embed_items_notebook(docs_json, render_items);\n",
              "\n",
              "  }\n",
              "  if (root.Bokeh !== undefined) {\n",
              "    embed_document(root);\n",
              "  } else {\n",
              "    var attempts = 0;\n",
              "    var timer = setInterval(function(root) {\n",
              "      if (root.Bokeh !== undefined) {\n",
              "        clearInterval(timer);\n",
              "        embed_document(root);\n",
              "      } else {\n",
              "        attempts++;\n",
              "        if (attempts > 100) {\n",
              "          clearInterval(timer);\n",
              "          console.log(\"Bokeh: ERROR: Unable to run BokehJS code because BokehJS library is missing\");\n",
              "        }\n",
              "      }\n",
              "    }, 10, root)\n",
              "  }\n",
              "})(window);"
            ],
            "application/vnd.bokehjs_exec.v0+json": ""
          },
          "metadata": {
            "application/vnd.bokehjs_exec.v0+json": {
              "id": "1002"
            }
          }
        }
      ]
    },
    {
      "cell_type": "markdown",
      "source": [
        "&nbsp;\n",
        "\n",
        "&nbsp;"
      ],
      "metadata": {
        "id": "SrX9bfmhzjg-"
      }
    },
    {
      "cell_type": "markdown",
      "source": [
        "# Latent Dirichlet Allocation (LDA)"
      ],
      "metadata": {
        "id": "KC1Vd4U0rMNs"
      }
    },
    {
      "cell_type": "code",
      "source": [
        "lda_model = LatentDirichletAllocation(n_components=n_topics, learning_method='online', \n",
        "                                          random_state=0, verbose=0)\n",
        "lda_topic_matrix = lda_model.fit_transform(small_document_term_matrix)"
      ],
      "metadata": {
        "id": "8nFFnLfzrium"
      },
      "execution_count": null,
      "outputs": []
    },
    {
      "cell_type": "markdown",
      "source": [
        "Again, taking the argmax of each text to give the predicted topics of each text in the sample. \n",
        "We can then cluster each text by topic.:"
      ],
      "metadata": {
        "id": "Xh93uJ2Ksi2D"
      }
    },
    {
      "cell_type": "code",
      "source": [
        "lda_keys = get_keys(lda_topic_matrix)\n",
        "lda_categories, lda_counts = keys_to_counts(lda_keys)"
      ],
      "metadata": {
        "id": "zAFIvunnsayG"
      },
      "execution_count": null,
      "outputs": []
    },
    {
      "cell_type": "code",
      "source": [
        "top_n_words_lda = get_top_n_words(10, lda_keys, small_document_term_matrix, small_count_vectorizer)\n",
        "\n",
        "for i in range(len(top_n_words_lda)):\n",
        "    print(\"Topic {}: \".format(i+1), top_n_words_lda[i])"
      ],
      "metadata": {
        "colab": {
          "base_uri": "https://localhost:8080/"
        },
        "id": "bWiwxhicsXcl",
        "outputId": "353998f6-7409-4a18-f4cf-257665f724dd"
      },
      "execution_count": null,
      "outputs": [
        {
          "output_type": "stream",
          "name": "stdout",
          "text": [
            "Topic 1:  ukraine russia ukrainian russian west anti states role foreign motive\n",
            "Topic 2:  people poroshenko moldova end transnistria unconscious orthodox ukrainian revolution romanian\n",
            "Topic 3:  nato elections western donbas countries dnr democracy independence georgia ready\n",
            "Topic 4:  swedish doping city athletes using christmas europe ukraine organization allegedly\n",
            "Topic 5:  russia ukrainian ukraine west russian restraining mariupol country resolution europe\n",
            "Topic 6:  russia west office prosecutor criminal groups justice crimea ukraine poisoning\n",
            "Topic 7:  nazism lithuania ukraine persons territory pact chemical case level internally\n",
            "Topic 8:  crimea ukraine russia eu create ussr france coalition anti doping\n",
            "Topic 9:  presidential elections russian russia president ukrainian trump election american campaign\n",
            "Topic 10:  ukraine russia military nato belarusian russian bellingcat anti anisim alena\n"
          ]
        }
      ]
    },
    {
      "cell_type": "code",
      "source": [
        "top_4_words = get_top_n_words(4, lda_keys, small_document_term_matrix, small_count_vectorizer)\n",
        "labels = ['Topic {}: \\n'.format(i+1) + top_4_words[i] for i in lda_categories]\n",
        "\n",
        "fig, ax = plt.subplots(figsize=(35,8))\n",
        "ax.bar(lda_categories, lda_counts);\n",
        "ax.set_xticks(lda_categories);\n",
        "ax.set_xticklabels(labels);\n",
        "ax.set_title('LDA topic counts');\n",
        "ax.set_ylabel('Number of headlines');"
      ],
      "metadata": {
        "colab": {
          "base_uri": "https://localhost:8080/",
          "height": 366
        },
        "id": "AUasGHxHsbZV",
        "outputId": "90c6fc89-5de3-435a-bae5-ef37de6a3a62"
      },
      "execution_count": null,
      "outputs": [
        {
          "output_type": "display_data",
          "data": {
            "text/plain": [
              "<Figure size 2520x576 with 1 Axes>"
            ],
            "image/png": "[encoded data removed]"
          },
          "metadata": {
            "needs_background": "light"
          }
        }
      ]
    },
    {
      "cell_type": "markdown",
      "source": [
        "tsne copied code from here"
      ],
      "metadata": {
        "id": "yhvIjMBStE9n"
      }
    },
    {
      "cell_type": "code",
      "source": [
        "tsne_lda_model = TSNE(n_components=2, perplexity=50, learning_rate=100, \n",
        "                        n_iter=2000, verbose=1, random_state=0, angle=0.75)\n",
        "tsne_lda_vectors = tsne_lda_model.fit_transform(lda_topic_matrix)"
      ],
      "metadata": {
        "colab": {
          "base_uri": "https://localhost:8080/"
        },
        "id": "Hb3WNlisswlM",
        "outputId": "737b0090-7144-4b84-d887-05f7f9f2b9b8"
      },
      "execution_count": null,
      "outputs": [
        {
          "output_type": "stream",
          "name": "stderr",
          "text": [
            "/usr/local/lib/python3.7/dist-packages/sklearn/manifold/_t_sne.py:783: FutureWarning: The default initialization in TSNE will change from 'random' to 'pca' in 1.2.\n",
            "  FutureWarning,\n"
          ]
        },
        {
          "output_type": "stream",
          "name": "stdout",
          "text": [
            "[t-SNE] Computing 99 nearest neighbors...\n",
            "[t-SNE] Indexed 100 samples in 0.000s...\n",
            "[t-SNE] Computed neighbors for 100 samples in 0.010s...\n",
            "[t-SNE] Computed conditional probabilities for sample 100 / 100\n",
            "[t-SNE] Mean sigma: 0.829889\n",
            "[t-SNE] KL divergence after 250 iterations with early exaggeration: 47.901039\n",
            "[t-SNE] KL divergence after 750 iterations: 0.091687\n"
          ]
        }
      ]
    },
    {
      "cell_type": "code",
      "source": [
        "top_3_words_lda = get_top_n_words(3, lda_keys, small_document_term_matrix, small_count_vectorizer)\n",
        "lda_mean_topic_vectors = get_mean_topic_vectors(lda_keys, tsne_lda_vectors)\n",
        "\n",
        "plot = figure(title=\"t-SNE Clustering of {} LDA Topics\".format(n_topics), plot_width=700, plot_height=700)\n",
        "plot.scatter(x=tsne_lda_vectors[:,0], y=tsne_lda_vectors[:,1], color=colormap[lda_keys])\n",
        "\n",
        "for t in range(n_topics):\n",
        "    label = Label(x=lda_mean_topic_vectors[t][0], y=lda_mean_topic_vectors[t][1], \n",
        "                  text=top_3_words_lda[t], text_color=colormap[t])\n",
        "    plot.add_layout(label)\n",
        "\n",
        "show(plot)"
      ],
      "metadata": {
        "colab": {
          "base_uri": "https://localhost:8080/",
          "height": 717
        },
        "id": "qv-93xaytIiV",
        "outputId": "f7750d4d-1a6b-47d8-f8d2-bedcee72693c"
      },
      "execution_count": null,
      "outputs": [
        {
          "output_type": "display_data",
          "data": {
            "application/javascript": [
              "\n",
              "(function(root) {\n",
              "  function now() {\n",
              "    return new Date();\n",
              "  }\n",
              "\n",
              "  var force = true;\n",
              "\n",
              "  if (typeof root._bokeh_onload_callbacks === \"undefined\" || force === true) {\n",
              "    root._bokeh_onload_callbacks = [];\n",
              "    root._bokeh_is_loading = undefined;\n",
              "  }\n",
              "\n",
              "  var JS_MIME_TYPE = 'application/javascript';\n",
              "  var HTML_MIME_TYPE = 'text/html';\n",
              "  var EXEC_MIME_TYPE = 'application/vnd.bokehjs_exec.v0+json';\n",
              "  var CLASS_NAME = 'output_bokeh rendered_html';\n",
              "\n",
              "  /**\n",
              "   * Render data to the DOM node\n",
              "   */\n",
              "  function render(props, node) {\n",
              "    var script = document.createElement(\"script\");\n",
              "    node.appendChild(script);\n",
              "  }\n",
              "\n",
              "  /**\n",
              "   * Handle when an output is cleared or removed\n",
              "   */\n",
              "  function handleClearOutput(event, handle) {\n",
              "    var cell = handle.cell;\n",
              "\n",
              "    var id = cell.output_area._bokeh_element_id;\n",
              "    var server_id = cell.output_area._bokeh_server_id;\n",
              "    // Clean up Bokeh references\n",
              "    if (id != null && id in Bokeh.index) {\n",
              "      Bokeh.index[id].model.document.clear();\n",
              "      delete Bokeh.index[id];\n",
              "    }\n",
              "\n",
              "    if (server_id !== undefined) {\n",
              "      // Clean up Bokeh references\n",
              "      var cmd = \"from bokeh.io.state import curstate; print(curstate().uuid_to_server['\" + server_id + \"'].get_sessions()[0].document.roots[0]._id)\";\n",
              "      cell.notebook.kernel.execute(cmd, {\n",
              "        iopub: {\n",
              "          output: function(msg) {\n",
              "            var id = msg.content.text.trim();\n",
              "            if (id in Bokeh.index) {\n",
              "              Bokeh.index[id].model.document.clear();\n",
              "              delete Bokeh.index[id];\n",
              "            }\n",
              "          }\n",
              "        }\n",
              "      });\n",
              "      // Destroy server and session\n",
              "      var cmd = \"import bokeh.io.notebook as ion; ion.destroy_server('\" + server_id + \"')\";\n",
              "      cell.notebook.kernel.execute(cmd);\n",
              "    }\n",
              "  }\n",
              "\n",
              "  /**\n",
              "   * Handle when a new output is added\n",
              "   */\n",
              "  function handleAddOutput(event, handle) {\n",
              "    var output_area = handle.output_area;\n",
              "    var output = handle.output;\n",
              "\n",
              "    // limit handleAddOutput to display_data with EXEC_MIME_TYPE content only\n",
              "    if ((output.output_type != \"display_data\") || (!Object.prototype.hasOwnProperty.call(output.data, EXEC_MIME_TYPE))) {\n",
              "      return\n",
              "    }\n",
              "\n",
              "    var toinsert = output_area.element.find(\".\" + CLASS_NAME.split(' ')[0]);\n",
              "\n",
              "    if (output.metadata[EXEC_MIME_TYPE][\"id\"] !== undefined) {\n",
              "      toinsert[toinsert.length - 1].firstChild.textContent = output.data[JS_MIME_TYPE];\n",
              "      // store reference to embed id on output_area\n",
              "      output_area._bokeh_element_id = output.metadata[EXEC_MIME_TYPE][\"id\"];\n",
              "    }\n",
              "    if (output.metadata[EXEC_MIME_TYPE][\"server_id\"] !== undefined) {\n",
              "      var bk_div = document.createElement(\"div\");\n",
              "      bk_div.innerHTML = output.data[HTML_MIME_TYPE];\n",
              "      var script_attrs = bk_div.children[0].attributes;\n",
              "      for (var i = 0; i < script_attrs.length; i++) {\n",
              "        toinsert[toinsert.length - 1].firstChild.setAttribute(script_attrs[i].name, script_attrs[i].value);\n",
              "        toinsert[toinsert.length - 1].firstChild.textContent = bk_div.children[0].textContent\n",
              "      }\n",
              "      // store reference to server id on output_area\n",
              "      output_area._bokeh_server_id = output.metadata[EXEC_MIME_TYPE][\"server_id\"];\n",
              "    }\n",
              "  }\n",
              "\n",
              "  function register_renderer(events, OutputArea) {\n",
              "\n",
              "    function append_mime(data, metadata, element) {\n",
              "      // create a DOM node to render to\n",
              "      var toinsert = this.create_output_subarea(\n",
              "        metadata,\n",
              "        CLASS_NAME,\n",
              "        EXEC_MIME_TYPE\n",
              "      );\n",
              "      this.keyboard_manager.register_events(toinsert);\n",
              "      // Render to node\n",
              "      var props = {data: data, metadata: metadata[EXEC_MIME_TYPE]};\n",
              "      render(props, toinsert[toinsert.length - 1]);\n",
              "      element.append(toinsert);\n",
              "      return toinsert\n",
              "    }\n",
              "\n",
              "    /* Handle when an output is cleared or removed */\n",
              "    events.on('clear_output.CodeCell', handleClearOutput);\n",
              "    events.on('delete.Cell', handleClearOutput);\n",
              "\n",
              "    /* Handle when a new output is added */\n",
              "    events.on('output_added.OutputArea', handleAddOutput);\n",
              "\n",
              "    /**\n",
              "     * Register the mime type and append_mime function with output_area\n",
              "     */\n",
              "    OutputArea.prototype.register_mime_type(EXEC_MIME_TYPE, append_mime, {\n",
              "      /* Is output safe? */\n",
              "      safe: true,\n",
              "      /* Index of renderer in `output_area.display_order` */\n",
              "      index: 0\n",
              "    });\n",
              "  }\n",
              "\n",
              "  // register the mime type if in Jupyter Notebook environment and previously unregistered\n",
              "  if (root.Jupyter !== undefined) {\n",
              "    var events = require('base/js/events');\n",
              "    var OutputArea = require('notebook/js/outputarea').OutputArea;\n",
              "\n",
              "    if (OutputArea.prototype.mime_types().indexOf(EXEC_MIME_TYPE) == -1) {\n",
              "      register_renderer(events, OutputArea);\n",
              "    }\n",
              "  }\n",
              "\n",
              "  \n",
              "  if (typeof (root._bokeh_timeout) === \"undefined\" || force === true) {\n",
              "    root._bokeh_timeout = Date.now() + 5000;\n",
              "    root._bokeh_failed_load = false;\n",
              "  }\n",
              "\n",
              "  var NB_LOAD_WARNING = {'data': {'text/html':\n",
              "     \"<div style='background-color: #fdd'>\\n\"+\n",
              "     \"<p>\\n\"+\n",
              "     \"BokehJS does not appear to have successfully loaded. If loading BokehJS from CDN, this \\n\"+\n",
              "     \"may be due to a slow or bad network connection. Possible fixes:\\n\"+\n",
              "     \"</p>\\n\"+\n",
              "     \"<ul>\\n\"+\n",
              "     \"<li>re-rerun `output_notebook()` to attempt to load from CDN again, or</li>\\n\"+\n",
              "     \"<li>use INLINE resources instead, as so:</li>\\n\"+\n",
              "     \"</ul>\\n\"+\n",
              "     \"<code>\\n\"+\n",
              "     \"from bokeh.resources import INLINE\\n\"+\n",
              "     \"output_notebook(resources=INLINE)\\n\"+\n",
              "     \"</code>\\n\"+\n",
              "     \"</div>\"}};\n",
              "\n",
              "  function display_loaded() {\n",
              "    var el = document.getElementById(null);\n",
              "    if (el != null) {\n",
              "      el.textContent = \"BokehJS is loading...\";\n",
              "    }\n",
              "    if (root.Bokeh !== undefined) {\n",
              "      if (el != null) {\n",
              "        el.textContent = \"BokehJS \" + root.Bokeh.version + \" successfully loaded.\";\n",
              "      }\n",
              "    } else if (Date.now() < root._bokeh_timeout) {\n",
              "      setTimeout(display_loaded, 100)\n",
              "    }\n",
              "  }\n",
              "\n",
              "\n",
              "  function run_callbacks() {\n",
              "    try {\n",
              "      root._bokeh_onload_callbacks.forEach(function(callback) {\n",
              "        if (callback != null)\n",
              "          callback();\n",
              "      });\n",
              "    } finally {\n",
              "      delete root._bokeh_onload_callbacks\n",
              "    }\n",
              "    console.debug(\"Bokeh: all callbacks have finished\");\n",
              "  }\n",
              "\n",
              "  function load_libs(css_urls, js_urls, callback) {\n",
              "    if (css_urls == null) css_urls = [];\n",
              "    if (js_urls == null) js_urls = [];\n",
              "\n",
              "    root._bokeh_onload_callbacks.push(callback);\n",
              "    if (root._bokeh_is_loading > 0) {\n",
              "      console.debug(\"Bokeh: BokehJS is being loaded, scheduling callback at\", now());\n",
              "      return null;\n",
              "    }\n",
              "    if (js_urls == null || js_urls.length === 0) {\n",
              "      run_callbacks();\n",
              "      return null;\n",
              "    }\n",
              "    console.debug(\"Bokeh: BokehJS not loaded, scheduling load and callback at\", now());\n",
              "    root._bokeh_is_loading = css_urls.length + js_urls.length;\n",
              "\n",
              "    function on_load() {\n",
              "      root._bokeh_is_loading--;\n",
              "      if (root._bokeh_is_loading === 0) {\n",
              "        console.debug(\"Bokeh: all BokehJS libraries/stylesheets loaded\");\n",
              "        run_callbacks()\n",
              "      }\n",
              "    }\n",
              "\n",
              "    function on_error(url) {\n",
              "      console.error(\"failed to load \" + url);\n",
              "    }\n",
              "\n",
              "    for (let i = 0; i < css_urls.length; i++) {\n",
              "      const url = css_urls[i];\n",
              "      const element = document.createElement(\"link\");\n",
              "      element.onload = on_load;\n",
              "      element.onerror = on_error.bind(null, url);\n",
              "      element.rel = \"stylesheet\";\n",
              "      element.type = \"text/css\";\n",
              "      element.href = url;\n",
              "      console.debug(\"Bokeh: injecting link tag for BokehJS stylesheet: \", url);\n",
              "      document.body.appendChild(element);\n",
              "    }\n",
              "\n",
              "    const hashes = {\"https://cdn.bokeh.org/bokeh/release/bokeh-2.3.3.min.js\": \"dM3QQsP+wXdHg42wTqW85BjZQdLNNIXqlPw/BgKoExPmTG7ZLML4EGqLMfqHT6ON\", \"https://cdn.bokeh.org/bokeh/release/bokeh-tables-2.3.3.min.js\": \"8x57I4YuIfu8XyZfFo0XVr2WAT8EK4rh/uDe3wF7YuW2FNUSNEpJbsPaB1nJ2fz2\", \"https://cdn.bokeh.org/bokeh/release/bokeh-widgets-2.3.3.min.js\": \"3QTqdz9LyAm2i0sG5XTePsHec3UHWwVsrOL68SYRoAXsafvfAyqtQ+h440+qIBhS\"};\n",
              "\n",
              "    for (let i = 0; i < js_urls.length; i++) {\n",
              "      const url = js_urls[i];\n",
              "      const element = document.createElement('script');\n",
              "      element.onload = on_load;\n",
              "      element.onerror = on_error.bind(null, url);\n",
              "      element.async = false;\n",
              "      element.src = url;\n",
              "      if (url in hashes) {\n",
              "        element.crossOrigin = \"anonymous\";\n",
              "        element.integrity = \"sha384-\" + hashes[url];\n",
              "      }\n",
              "      console.debug(\"Bokeh: injecting script tag for BokehJS library: \", url);\n",
              "      document.head.appendChild(element);\n",
              "    }\n",
              "  };\n",
              "\n",
              "  function inject_raw_css(css) {\n",
              "    const element = document.createElement(\"style\");\n",
              "    element.appendChild(document.createTextNode(css));\n",
              "    document.body.appendChild(element);\n",
              "  }\n",
              "\n",
              "  \n",
              "  var js_urls = [\"https://cdn.bokeh.org/bokeh/release/bokeh-2.3.3.min.js\", \"https://cdn.bokeh.org/bokeh/release/bokeh-widgets-2.3.3.min.js\", \"https://cdn.bokeh.org/bokeh/release/bokeh-tables-2.3.3.min.js\"];\n",
              "  var css_urls = [];\n",
              "  \n",
              "\n",
              "  var inline_js = [\n",
              "    function(Bokeh) {\n",
              "      Bokeh.set_log_level(\"info\");\n",
              "    },\n",
              "    function(Bokeh) {\n",
              "    \n",
              "    \n",
              "    }\n",
              "  ];\n",
              "\n",
              "  function run_inline_js() {\n",
              "    \n",
              "    if (root.Bokeh !== undefined || force === true) {\n",
              "      \n",
              "    for (var i = 0; i < inline_js.length; i++) {\n",
              "      inline_js[i].call(root, root.Bokeh);\n",
              "    }\n",
              "    } else if (Date.now() < root._bokeh_timeout) {\n",
              "      setTimeout(run_inline_js, 100);\n",
              "    } else if (!root._bokeh_failed_load) {\n",
              "      console.log(\"Bokeh: BokehJS failed to load within specified timeout.\");\n",
              "      root._bokeh_failed_load = true;\n",
              "    } else if (force !== true) {\n",
              "      var cell = $(document.getElementById(null)).parents('.cell').data().cell;\n",
              "      cell.output_area.append_execute_result(NB_LOAD_WARNING)\n",
              "    }\n",
              "\n",
              "  }\n",
              "\n",
              "  if (root._bokeh_is_loading === 0) {\n",
              "    console.debug(\"Bokeh: BokehJS loaded, going straight to plotting\");\n",
              "    run_inline_js();\n",
              "  } else {\n",
              "    load_libs(css_urls, js_urls, function() {\n",
              "      console.debug(\"Bokeh: BokehJS plotting callback run at\", now());\n",
              "      run_inline_js();\n",
              "    });\n",
              "  }\n",
              "}(window));"
            ],
            "application/vnd.bokehjs_load.v0+json": "\n(function(root) {\n  function now() {\n    return new Date();\n  }\n\n  var force = true;\n\n  if (typeof root._bokeh_onload_callbacks === \"undefined\" || force === true) {\n    root._bokeh_onload_callbacks = [];\n    root._bokeh_is_loading = undefined;\n  }\n\n  \n\n  \n  if (typeof (root._bokeh_timeout) === \"undefined\" || force === true) {\n    root._bokeh_timeout = Date.now() + 5000;\n    root._bokeh_failed_load = false;\n  }\n\n  var NB_LOAD_WARNING = {'data': {'text/html':\n     \"<div style='background-color: #fdd'>\\n\"+\n     \"<p>\\n\"+\n     \"BokehJS does not appear to have successfully loaded. If loading BokehJS from CDN, this \\n\"+\n     \"may be due to a slow or bad network connection. Possible fixes:\\n\"+\n     \"</p>\\n\"+\n     \"<ul>\\n\"+\n     \"<li>re-rerun `output_notebook()` to attempt to load from CDN again, or</li>\\n\"+\n     \"<li>use INLINE resources instead, as so:</li>\\n\"+\n     \"</ul>\\n\"+\n     \"<code>\\n\"+\n     \"from bokeh.resources import INLINE\\n\"+\n     \"output_notebook(resources=INLINE)\\n\"+\n     \"</code>\\n\"+\n     \"</div>\"}};\n\n  function display_loaded() {\n    var el = document.getElementById(null);\n    if (el != null) {\n      el.textContent = \"BokehJS is loading...\";\n    }\n    if (root.Bokeh !== undefined) {\n      if (el != null) {\n        el.textContent = \"BokehJS \" + root.Bokeh.version + \" successfully loaded.\";\n      }\n    } else if (Date.now() < root._bokeh_timeout) {\n      setTimeout(display_loaded, 100)\n    }\n  }\n\n\n  function run_callbacks() {\n    try {\n      root._bokeh_onload_callbacks.forEach(function(callback) {\n        if (callback != null)\n          callback();\n      });\n    } finally {\n      delete root._bokeh_onload_callbacks\n    }\n    console.debug(\"Bokeh: all callbacks have finished\");\n  }\n\n  function load_libs(css_urls, js_urls, callback) {\n    if (css_urls == null) css_urls = [];\n    if (js_urls == null) js_urls = [];\n\n    root._bokeh_onload_callbacks.push(callback);\n    if (root._bokeh_is_loading > 0) {\n      console.debug(\"Bokeh: BokehJS is being loaded, scheduling callback at\", now());\n      return null;\n    }\n    if (js_urls == null || js_urls.length === 0) {\n      run_callbacks();\n      return null;\n    }\n    console.debug(\"Bokeh: BokehJS not loaded, scheduling load and callback at\", now());\n    root._bokeh_is_loading = css_urls.length + js_urls.length;\n\n    function on_load() {\n      root._bokeh_is_loading--;\n      if (root._bokeh_is_loading === 0) {\n        console.debug(\"Bokeh: all BokehJS libraries/stylesheets loaded\");\n        run_callbacks()\n      }\n    }\n\n    function on_error(url) {\n      console.error(\"failed to load \" + url);\n    }\n\n    for (let i = 0; i < css_urls.length; i++) {\n      const url = css_urls[i];\n      const element = document.createElement(\"link\");\n      element.onload = on_load;\n      element.onerror = on_error.bind(null, url);\n      element.rel = \"stylesheet\";\n      element.type = \"text/css\";\n      element.href = url;\n      console.debug(\"Bokeh: injecting link tag for BokehJS stylesheet: \", url);\n      document.body.appendChild(element);\n    }\n\n    const hashes = {\"https://cdn.bokeh.org/bokeh/release/bokeh-2.3.3.min.js\": \"dM3QQsP+wXdHg42wTqW85BjZQdLNNIXqlPw/BgKoExPmTG7ZLML4EGqLMfqHT6ON\", \"https://cdn.bokeh.org/bokeh/release/bokeh-tables-2.3.3.min.js\": \"8x57I4YuIfu8XyZfFo0XVr2WAT8EK4rh/uDe3wF7YuW2FNUSNEpJbsPaB1nJ2fz2\", \"https://cdn.bokeh.org/bokeh/release/bokeh-widgets-2.3.3.min.js\": \"3QTqdz9LyAm2i0sG5XTePsHec3UHWwVsrOL68SYRoAXsafvfAyqtQ+h440+qIBhS\"};\n\n    for (let i = 0; i < js_urls.length; i++) {\n      const url = js_urls[i];\n      const element = document.createElement('script');\n      element.onload = on_load;\n      element.onerror = on_error.bind(null, url);\n      element.async = false;\n      element.src = url;\n      if (url in hashes) {\n        element.crossOrigin = \"anonymous\";\n        element.integrity = \"sha384-\" + hashes[url];\n      }\n      console.debug(\"Bokeh: injecting script tag for BokehJS library: \", url);\n      document.head.appendChild(element);\n    }\n  };\n\n  function inject_raw_css(css) {\n    const element = document.createElement(\"style\");\n    element.appendChild(document.createTextNode(css));\n    document.body.appendChild(element);\n  }\n\n  \n  var js_urls = [\"https://cdn.bokeh.org/bokeh/release/bokeh-2.3.3.min.js\", \"https://cdn.bokeh.org/bokeh/release/bokeh-widgets-2.3.3.min.js\", \"https://cdn.bokeh.org/bokeh/release/bokeh-tables-2.3.3.min.js\"];\n  var css_urls = [];\n  \n\n  var inline_js = [\n    function(Bokeh) {\n      Bokeh.set_log_level(\"info\");\n    },\n    function(Bokeh) {\n    \n    \n    }\n  ];\n\n  function run_inline_js() {\n    \n    if (root.Bokeh !== undefined || force === true) {\n      \n    for (var i = 0; i < inline_js.length; i++) {\n      inline_js[i].call(root, root.Bokeh);\n    }\n    } else if (Date.now() < root._bokeh_timeout) {\n      setTimeout(run_inline_js, 100);\n    } else if (!root._bokeh_failed_load) {\n      console.log(\"Bokeh: BokehJS failed to load within specified timeout.\");\n      root._bokeh_failed_load = true;\n    } else if (force !== true) {\n      var cell = $(document.getElementById(null)).parents('.cell').data().cell;\n      cell.output_area.append_execute_result(NB_LOAD_WARNING)\n    }\n\n  }\n\n  if (root._bokeh_is_loading === 0) {\n    console.debug(\"Bokeh: BokehJS loaded, going straight to plotting\");\n    run_inline_js();\n  } else {\n    load_libs(css_urls, js_urls, function() {\n      console.debug(\"Bokeh: BokehJS plotting callback run at\", now());\n      run_inline_js();\n    });\n  }\n}(window));"
          },
          "metadata": {}
        },
        {
          "output_type": "display_data",
          "data": {
            "text/html": [
              "\n",
              "\n",
              "\n",
              "\n",
              "\n",
              "\n",
              "  <div class=\"bk-root\" id=\"7d4f1c02-86d6-4951-bad9-a167881b8fc2\" data-root-id=\"1110\"></div>\n"
            ]
          },
          "metadata": {}
        },
        {
          "output_type": "display_data",
          "data": {
            "application/javascript": [
              "(function(root) {\n",
              "  function embed_document(root) {\n",
              "    \n",
              "  var docs_json = {\"3dd42a0e-0679-4935-8af2-2d8b48a402d7\":{\"defs\":[],\"roots\":{\"references\":[{\"attributes\":{\"below\":[{\"id\":\"1121\"}],\"center\":[{\"id\":\"1124\"},{\"id\":\"1128\"},{\"id\":\"1148\"},{\"id\":\"1149\"},{\"id\":\"1150\"},{\"id\":\"1151\"},{\"id\":\"1152\"},{\"id\":\"1153\"},{\"id\":\"1154\"},{\"id\":\"1155\"},{\"id\":\"1156\"},{\"id\":\"1157\"}],\"height\":700,\"left\":[{\"id\":\"1125\"}],\"renderers\":[{\"id\":\"1146\"}],\"title\":{\"id\":\"1111\"},\"toolbar\":{\"id\":\"1136\"},\"width\":700,\"x_range\":{\"id\":\"1113\"},\"x_scale\":{\"id\":\"1117\"},\"y_range\":{\"id\":\"1115\"},\"y_scale\":{\"id\":\"1119\"}},\"id\":\"1110\",\"subtype\":\"Figure\",\"type\":\"Plot\"},{\"attributes\":{},\"id\":\"1169\",\"type\":\"AllLabels\"},{\"attributes\":{\"text\":\"russia ukrainian ukraine\",\"text_color\":\"#2ca02c\",\"x\":-4.070889472961426,\"y\":-1.7702785730361938},\"id\":\"1152\",\"type\":\"Label\"},{\"attributes\":{},\"id\":\"1117\",\"type\":\"LinearScale\"},{\"attributes\":{},\"id\":\"1126\",\"type\":\"BasicTicker\"},{\"attributes\":{\"fill_color\":{\"field\":\"fill_color\"},\"line_color\":{\"field\":\"line_color\"},\"x\":{\"field\":\"x\"},\"y\":{\"field\":\"y\"}},\"id\":\"1144\",\"type\":\"Scatter\"},{\"attributes\":{\"text\":\"crimea ukraine russia\",\"text_color\":\"#ff9896\",\"x\":-5.072303771972656,\"y\":-3.7874913215637207},\"id\":\"1155\",\"type\":\"Label\"},{\"attributes\":{},\"id\":\"1170\",\"type\":\"BasicTickFormatter\"},{\"attributes\":{\"text\":\"nazism lithuania ukraine\",\"text_color\":\"#d62728\",\"x\":-8.707473754882812,\"y\":-1.5095127820968628},\"id\":\"1154\",\"type\":\"Label\"},{\"attributes\":{\"axis\":{\"id\":\"1125\"},\"dimension\":1,\"ticker\":null},\"id\":\"1128\",\"type\":\"Grid\"},{\"attributes\":{\"text\":\"ukraine russia military\",\"text_color\":\"#c5b0d5\",\"x\":-9.152769088745117,\"y\":-4.024099826812744},\"id\":\"1157\",\"type\":\"Label\"},{\"attributes\":{},\"id\":\"1172\",\"type\":\"AllLabels\"},{\"attributes\":{},\"id\":\"1134\",\"type\":\"HelpTool\"},{\"attributes\":{\"source\":{\"id\":\"1143\"}},\"id\":\"1147\",\"type\":\"CDSView\"},{\"attributes\":{\"text\":\"nato elections western\",\"text_color\":\"#ff7f0e\",\"x\":-4.733351707458496,\"y\":-6.104343414306641},\"id\":\"1150\",\"type\":\"Label\"},{\"attributes\":{\"bottom_units\":\"screen\",\"fill_alpha\":0.5,\"fill_color\":\"lightgrey\",\"left_units\":\"screen\",\"level\":\"overlay\",\"line_alpha\":1.0,\"line_color\":\"black\",\"line_dash\":[4,4],\"line_width\":2,\"right_units\":\"screen\",\"syncable\":false,\"top_units\":\"screen\"},\"id\":\"1135\",\"type\":\"BoxAnnotation\"},{\"attributes\":{},\"id\":\"1133\",\"type\":\"ResetTool\"},{\"attributes\":{},\"id\":\"1115\",\"type\":\"DataRange1d\"},{\"attributes\":{\"text\":\"t-SNE Clustering of 10 LDA Topics\"},\"id\":\"1111\",\"type\":\"Title\"},{\"attributes\":{\"active_multi\":null,\"tools\":[{\"id\":\"1129\"},{\"id\":\"1130\"},{\"id\":\"1131\"},{\"id\":\"1132\"},{\"id\":\"1133\"},{\"id\":\"1134\"}]},\"id\":\"1136\",\"type\":\"Toolbar\"},{\"attributes\":{},\"id\":\"1129\",\"type\":\"PanTool\"},{\"attributes\":{},\"id\":\"1130\",\"type\":\"WheelZoomTool\"},{\"attributes\":{\"text\":\"presidential elections russian\",\"text_color\":\"#9467bd\",\"x\":-7.4411139488220215,\"y\":-6.701292991638184},\"id\":\"1156\",\"type\":\"Label\"},{\"attributes\":{},\"id\":\"1173\",\"type\":\"BasicTickFormatter\"},{\"attributes\":{},\"id\":\"1122\",\"type\":\"BasicTicker\"},{\"attributes\":{\"overlay\":{\"id\":\"1135\"}},\"id\":\"1131\",\"type\":\"BoxZoomTool\"},{\"attributes\":{\"axis\":{\"id\":\"1121\"},\"ticker\":null},\"id\":\"1124\",\"type\":\"Grid\"},{\"attributes\":{\"text\":\"people poroshenko moldova\",\"text_color\":\"#aec7e8\",\"x\":-3.1618480682373047,\"y\":-4.300722122192383},\"id\":\"1149\",\"type\":\"Label\"},{\"attributes\":{\"text\":\"russia west office\",\"text_color\":\"#98df8a\",\"x\":-6.7756147384643555,\"y\":-4.4989118576049805},\"id\":\"1153\",\"type\":\"Label\"},{\"attributes\":{\"data\":{\"fill_color\":[\"#ffbb78\",\"#aec7e8\",\"#aec7e8\",\"#98df8a\",\"#aec7e8\",\"#1f77b4\",\"#1f77b4\",\"#9467bd\",\"#98df8a\",\"#d62728\",\"#98df8a\",\"#2ca02c\",\"#ff9896\",\"#ff7f0e\",\"#ff9896\",\"#ff7f0e\",\"#d62728\",\"#c5b0d5\",\"#c5b0d5\",\"#ff9896\",\"#ff9896\",\"#9467bd\",\"#aec7e8\",\"#ff9896\",\"#d62728\",\"#aec7e8\",\"#ffbb78\",\"#c5b0d5\",\"#2ca02c\",\"#2ca02c\",\"#98df8a\",\"#ffbb78\",\"#ff7f0e\",\"#ff9896\",\"#1f77b4\",\"#ff7f0e\",\"#d62728\",\"#ff9896\",\"#9467bd\",\"#c5b0d5\",\"#2ca02c\",\"#9467bd\",\"#ffbb78\",\"#ff7f0e\",\"#2ca02c\",\"#98df8a\",\"#c5b0d5\",\"#ffbb78\",\"#9467bd\",\"#1f77b4\",\"#d62728\",\"#9467bd\",\"#1f77b4\",\"#c5b0d5\",\"#c5b0d5\",\"#d62728\",\"#9467bd\",\"#2ca02c\",\"#2ca02c\",\"#98df8a\",\"#aec7e8\",\"#ffbb78\",\"#c5b0d5\",\"#c5b0d5\",\"#d62728\",\"#9467bd\",\"#aec7e8\",\"#9467bd\",\"#9467bd\",\"#2ca02c\",\"#c5b0d5\",\"#ff7f0e\",\"#1f77b4\",\"#ff7f0e\",\"#1f77b4\",\"#98df8a\",\"#98df8a\",\"#ff7f0e\",\"#aec7e8\",\"#1f77b4\",\"#c5b0d5\",\"#2ca02c\",\"#2ca02c\",\"#9467bd\",\"#9467bd\",\"#98df8a\",\"#2ca02c\",\"#c5b0d5\",\"#2ca02c\",\"#ff7f0e\",\"#2ca02c\",\"#ffbb78\",\"#1f77b4\",\"#ffbb78\",\"#98df8a\",\"#2ca02c\",\"#9467bd\",\"#ffbb78\",\"#ffbb78\",\"#c5b0d5\"],\"line_color\":[\"#ffbb78\",\"#aec7e8\",\"#aec7e8\",\"#98df8a\",\"#aec7e8\",\"#1f77b4\",\"#1f77b4\",\"#9467bd\",\"#98df8a\",\"#d62728\",\"#98df8a\",\"#2ca02c\",\"#ff9896\",\"#ff7f0e\",\"#ff9896\",\"#ff7f0e\",\"#d62728\",\"#c5b0d5\",\"#c5b0d5\",\"#ff9896\",\"#ff9896\",\"#9467bd\",\"#aec7e8\",\"#ff9896\",\"#d62728\",\"#aec7e8\",\"#ffbb78\",\"#c5b0d5\",\"#2ca02c\",\"#2ca02c\",\"#98df8a\",\"#ffbb78\",\"#ff7f0e\",\"#ff9896\",\"#1f77b4\",\"#ff7f0e\",\"#d62728\",\"#ff9896\",\"#9467bd\",\"#c5b0d5\",\"#2ca02c\",\"#9467bd\",\"#ffbb78\",\"#ff7f0e\",\"#2ca02c\",\"#98df8a\",\"#c5b0d5\",\"#ffbb78\",\"#9467bd\",\"#1f77b4\",\"#d62728\",\"#9467bd\",\"#1f77b4\",\"#c5b0d5\",\"#c5b0d5\",\"#d62728\",\"#9467bd\",\"#2ca02c\",\"#2ca02c\",\"#98df8a\",\"#aec7e8\",\"#ffbb78\",\"#c5b0d5\",\"#c5b0d5\",\"#d62728\",\"#9467bd\",\"#aec7e8\",\"#9467bd\",\"#9467bd\",\"#2ca02c\",\"#c5b0d5\",\"#ff7f0e\",\"#1f77b4\",\"#ff7f0e\",\"#1f77b4\",\"#98df8a\",\"#98df8a\",\"#ff7f0e\",\"#aec7e8\",\"#1f77b4\",\"#c5b0d5\",\"#2ca02c\",\"#2ca02c\",\"#9467bd\",\"#9467bd\",\"#98df8a\",\"#2ca02c\",\"#c5b0d5\",\"#2ca02c\",\"#ff7f0e\",\"#2ca02c\",\"#ffbb78\",\"#1f77b4\",\"#ffbb78\",\"#98df8a\",\"#2ca02c\",\"#9467bd\",\"#ffbb78\",\"#ffbb78\",\"#c5b0d5\"],\"x\":{\"__ndarray__\":\"KwrMwLf8SsCn/ErAvDHYwGiYScD3ddjAe0PYwPt57MBCpdjARU4Lwa5N2cDnC3vAQOOhwNgbl8A6K6LAmxWXwPsEC8H1Gw/BxPQTwXZmosDouaLARnbnwDgvR8C0mqLAxowLwbb8SsDh68vAPZ8UwQWohMBTcYnAtdbYwL79y8AJJpfABlaiwLJ52MCZFZfA7VULwZ0SosDpePTADMYSwUpPfsCPLOjAAeDLwB2Al8AUp3XA+yHZwDONFcFjusvA6V3zwElo2MADQgvBhVTwwHZt2MA3YxXBuUEVwaRwC8GndefAsdSMwKYNdsDoINnAG3FKwF7Vy8CxEg7B+hsPwRZUC8GJLvDARLJLwLss6MBa8e/AHUl+wHlsDcFqLZfAsHnYwPDcl8D8AtjA97fYwKS12MDfppbAsPxKwHtl2MBLyxTB7kp5wLupisC9DerAw7b0wDHy2MCmiorAPRsTwTl3hsAplpnAGmV3wLTcy8AjktjAXtXLwFKU2MAESH7A8bH0wHWNy8BM8svA2pwSwQ==\",\"dtype\":\"float32\",\"order\":\"little\",\"shape\":[100]},\"y\":{\"__ndarray__\":\"cwlSvouLicCNi4nAbwyPwB2yicBNjhvAJR8cwJJazsCMoo/AyBzBvzmwkMDZOPS/sJtywKn2w8C1fHLAcQHEwH8xw794cH/A8V+HwMFXcsBIMHLA27/XwHYIisAGIXLA2NK/v4yLicCJbXy+X355wL24xb+Vy+C/fe6PwM2BY77S9cPAB29ywNqiG8BxAcTAEkvBv1ybcsDen9jAvauHwDhIw7+1xdnAR0iGvlpew8CMZ+G/pn2QwD1agsCLE56+wLTTwKDOG8Cto8G/sAHQwJ/EG8AsR4PAMDR+wIdYwL9YtdbA+I0CwKFjyb/BYJDAtZeJwNzCjL5/mnvAi3B/wKQdwb/GlNzArHuJwLIC2sDws9zA0Xb3v8wre8Cr7sPA46IbwBKzwsBqAx3Ad+OPwLvGj8CbisTAjIuJwJ26G8CJ74bAbfvFv2609r8N3NDAEF7VwC4mkMCHQ/S/bwp4wL4Oyr/+kr/AWXvsv/6/h753RBvAssOMvl+qj8D7dfe/jEvXwPSLuL4HpnO+e293wA==\",\"dtype\":\"float32\",\"order\":\"little\",\"shape\":[100]}},\"selected\":{\"id\":\"1177\"},\"selection_policy\":{\"id\":\"1176\"}},\"id\":\"1143\",\"type\":\"ColumnDataSource\"},{\"attributes\":{},\"id\":\"1132\",\"type\":\"SaveTool\"},{\"attributes\":{\"fill_alpha\":{\"value\":0.1},\"fill_color\":{\"field\":\"fill_color\"},\"line_alpha\":{\"value\":0.1},\"line_color\":{\"field\":\"line_color\"},\"x\":{\"field\":\"x\"},\"y\":{\"field\":\"y\"}},\"id\":\"1145\",\"type\":\"Scatter\"},{\"attributes\":{\"text\":\"ukraine russia ukrainian\",\"text_color\":\"#1f77b4\",\"x\":-6.76211404800415,\"y\":-2.4349565505981445},\"id\":\"1148\",\"type\":\"Label\"},{\"attributes\":{},\"id\":\"1119\",\"type\":\"LinearScale\"},{\"attributes\":{},\"id\":\"1113\",\"type\":\"DataRange1d\"},{\"attributes\":{\"formatter\":{\"id\":\"1173\"},\"major_label_policy\":{\"id\":\"1172\"},\"ticker\":{\"id\":\"1122\"}},\"id\":\"1121\",\"type\":\"LinearAxis\"},{\"attributes\":{\"text\":\"swedish doping city\",\"text_color\":\"#ffbb78\",\"x\":-6.3705735206604,\"y\":-0.2658185362815857},\"id\":\"1151\",\"type\":\"Label\"},{\"attributes\":{\"formatter\":{\"id\":\"1170\"},\"major_label_policy\":{\"id\":\"1169\"},\"ticker\":{\"id\":\"1126\"}},\"id\":\"1125\",\"type\":\"LinearAxis\"},{\"attributes\":{\"data_source\":{\"id\":\"1143\"},\"glyph\":{\"id\":\"1144\"},\"hover_glyph\":null,\"muted_glyph\":null,\"nonselection_glyph\":{\"id\":\"1145\"},\"view\":{\"id\":\"1147\"}},\"id\":\"1146\",\"type\":\"GlyphRenderer\"},{\"attributes\":{},\"id\":\"1176\",\"type\":\"UnionRenderers\"},{\"attributes\":{},\"id\":\"1177\",\"type\":\"Selection\"}],\"root_ids\":[\"1110\"]},\"title\":\"Bokeh Application\",\"version\":\"2.3.3\"}};\n",
              "  var render_items = [{\"docid\":\"3dd42a0e-0679-4935-8af2-2d8b48a402d7\",\"root_ids\":[\"1110\"],\"roots\":{\"1110\":\"7d4f1c02-86d6-4951-bad9-a167881b8fc2\"}}];\n",
              "  root.Bokeh.embed.embed_items_notebook(docs_json, render_items);\n",
              "\n",
              "  }\n",
              "  if (root.Bokeh !== undefined) {\n",
              "    embed_document(root);\n",
              "  } else {\n",
              "    var attempts = 0;\n",
              "    var timer = setInterval(function(root) {\n",
              "      if (root.Bokeh !== undefined) {\n",
              "        clearInterval(timer);\n",
              "        embed_document(root);\n",
              "      } else {\n",
              "        attempts++;\n",
              "        if (attempts > 100) {\n",
              "          clearInterval(timer);\n",
              "          console.log(\"Bokeh: ERROR: Unable to run BokehJS code because BokehJS library is missing\");\n",
              "        }\n",
              "      }\n",
              "    }, 10, root)\n",
              "  }\n",
              "})(window);"
            ],
            "application/vnd.bokehjs_exec.v0+json": ""
          },
          "metadata": {
            "application/vnd.bokehjs_exec.v0+json": {
              "id": "1110"
            }
          }
        }
      ]
    },
    {
      "cell_type": "markdown",
      "source": [
        "use full set instead of sample\n",
        "\n",
        "//technically still sample but with 100% (update later)"
      ],
      "metadata": {
        "id": "nGpxzN4etbNr"
      }
    },
    {
      "cell_type": "code",
      "source": [
        ""
      ],
      "metadata": {
        "id": "ABqw6PruvU3L"
      },
      "execution_count": null,
      "outputs": []
    },
    {
      "cell_type": "markdown",
      "source": [
        "Note:\n",
        "\n",
        "You have just added the large sample (=full) part. \n",
        "\n",
        "ToDo now is to repeat LSA and LDA with large sample parameter\n",
        "\n",
        "later: clean up furhter (found nbsp in texts, and stills needs lemmatizaiton etc)"
      ],
      "metadata": {
        "id": "au-YsoB32byF"
      }
    },
    {
      "cell_type": "code",
      "source": [
        ""
      ],
      "metadata": {
        "id": "F2venGzw2x2W"
      },
      "execution_count": null,
      "outputs": []
    }
  ]
}